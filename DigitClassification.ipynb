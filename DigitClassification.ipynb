{
  "nbformat": 4,
  "nbformat_minor": 0,
  "metadata": {
    "colab": {
      "provenance": [],
      "gpuType": "T4",
      "authorship_tag": "ABX9TyOoGNfnNlLm2HXy5DNQZzZK",
      "include_colab_link": true
    },
    "kernelspec": {
      "name": "python3",
      "display_name": "Python 3"
    },
    "language_info": {
      "name": "python"
    }
  },
  "cells": [
    {
      "cell_type": "markdown",
      "metadata": {
        "id": "view-in-github",
        "colab_type": "text"
      },
      "source": [
        "<a href=\"https://colab.research.google.com/github/CaptainJimbo/MyPortfolio/blob/main/DigitClassification.ipynb\" target=\"_parent\"><img src=\"https://colab.research.google.com/assets/colab-badge.svg\" alt=\"Open In Colab\"/></a>"
      ]
    },
    {
      "cell_type": "markdown",
      "source": [
        "<table align=\"left\">\n",
        "  <td align=\"left\">\n",
        "  <a target=\"_blank\" href=\"https://dimitriskogias.wixsite.com/spacecowboy\" style=\"text-decoration: none; display: flex; align-items: center; color: white; background-color: purple; padding: 10px; border-radius: 5px;\">\n",
        "      <img src=\"https://static.wikia.nocookie.net/bravestarr/images/6/6d/Lucas_Conway.png/revision/latest?cb=20211111224054\" width=\"40px\" height=\"40px\" style=\"border-radius: 50%; margin-right: 10px;\" />\n",
        "      <span>Visit my Webpage</span>\n",
        "    </a>\n",
        "  </td>\n",
        "</table>\n",
        "\n"
      ],
      "metadata": {
        "id": "ysLjtWmgZxn4"
      }
    },
    {
      "cell_type": "markdown",
      "source": [
        "<table align=\"left\">\n",
        "  <td align=\"left\"><a target=\"_blank\" href=\"https://github.com/CaptainJimbo/MyPortfolio/blob/main/DigitClassification.ipynb\" style=\"text-decoration: none; display: flex; align-items: center; color: black; background-color: lightgray; padding: 10px; border-radius: 5px;\">\n",
        "        <img src=\"https://i.ibb.co/xfJbPmL/github.png\"  width=\"40px\" height=\"40px\" style=\"border-radius: 50%; margin-right: 10px;\"   />View it on GitHub</a></td>\n",
        "</table>\n"
      ],
      "metadata": {
        "id": "eMxV3Qg2WvYN"
      }
    },
    {
      "cell_type": "markdown",
      "source": [
        "<h1 align='center'> <b>THE MNIST DATABASE <i>of handwritten digits</i> </b>\n",
        "</h1>\n",
        "<p align='center'>\n",
        "    <b>Yann LeCun</b>, Courant Institute, NYU<br>\n",
        "    <b>Corinna Cortes</b>, Google Labs, New York<br>\n",
        "    <b>Christopher J.C. Burges</b>, Microsoft Research, Redmond<br>\n",
        "</p>\n",
        "\n",
        "<p>The MNIST database of handwritten digits, has a training set of 60,000 examples, and a test set of 10,000 examples. The digits have been size-normalized and centered in a fixed-size image. It is a good database for implementing Machine Learning and Neural Network methods while spending minimal efforts on preprocessing and formatting.\n",
        "I will build models that once able to read the random handwrittten digits from images after they are trained from labeled images (supervised learning, neural networks, deep learning models) or groupify the handwritten digits in categories for self-labeling. This a computer vision problem. </p>\n",
        "<p>METHODS IMPLEMENTED:\n",
        "<ul>\n",
        "    <li> Supervised Learning\n",
        "    <ul>\n",
        "        <li> Logistic Regression\n",
        "        <li> K-Nearest Neighbours\n",
        "        <li> Support Vector Machines\n",
        "        <li> Decision Tree Classifier\n",
        "    </ul>\n",
        "    <li> Unsupervised Learning\n",
        "    <ul>\n",
        "        <li> KMeans\n",
        "        <li> DBSCAN\n",
        "        <li> t-SNE\n",
        "        <li> Semisuprvised Learning\n",
        "        <li> others\n",
        "    </ul>\n",
        "    <li> Neural Networks\n",
        "    <ul>\n",
        "        <li> Fully Connected Layer Model\n",
        "        <li> Convolutional Neural Network Model\n",
        "    </ul>\n",
        "</ul>\n",
        "<p>"
      ],
      "metadata": {
        "id": "jeHlQsqkuSHB"
      }
    },
    {
      "cell_type": "markdown",
      "source": [
        "<h2> Supervised Learning </h2>\n",
        "<a id=\"LR\"></a>  \n",
        "<h4> Logistic Regression </h4>"
      ],
      "metadata": {
        "id": "0DMhN9U4Z-xy"
      }
    },
    {
      "cell_type": "code",
      "execution_count": 3,
      "metadata": {
        "id": "KX_dZJTk2ck_"
      },
      "outputs": [],
      "source": [
        "# Dataset\n",
        "from tensorflow.keras.datasets import mnist\n",
        "\n",
        "# Important Libraries\n",
        "import matplotlib.pyplot as plt\n",
        "import pandas as pd\n",
        "import numpy as np\n",
        "import random\n",
        "from tqdm import tqdm\n",
        "\n",
        "# Machine Learning\n",
        "from sklearn.pipeline import Pipeline\n",
        "from sklearn.preprocessing import StandardScaler\n",
        "from sklearn.linear_model import LogisticRegression\n",
        "from sklearn.neighbors import KNeighborsClassifier\n",
        "from sklearn.svm import SVC\n",
        "from sklearn.tree import DecisionTreeClassifier\n",
        "from sklearn.metrics import accuracy_score\n",
        "\n",
        "# Neural Networks\n",
        "import tensorflow as tf\n",
        "# assert len(tf.config.list_physical_devices('GPU')) > 0"
      ]
    },
    {
      "cell_type": "markdown",
      "source": [
        "<a id='another_cell'></a>"
      ],
      "metadata": {
        "id": "CEQoqIqZaAhG"
      }
    },
    {
      "cell_type": "code",
      "source": [
        "# Load the dataset. It is a tuple of two tuples with arrays, the images in array format.\n",
        "(train_images, train_labels), (test_images, test_labels) = mnist.load_data()"
      ],
      "metadata": {
        "id": "IWiv6loyouyS"
      },
      "execution_count": null,
      "outputs": []
    },
    {
      "cell_type": "code",
      "source": [
        "plt.figure(figsize=(10,10))\n",
        "random_inds = np.random.choice(60000,36)\n",
        "for i in range(36):\n",
        "    plt.subplot(6,6,i+1)\n",
        "    plt.xticks([])\n",
        "    plt.yticks([])\n",
        "    plt.grid(False)\n",
        "    image_ind = random_inds[i]\n",
        "    plt.imshow(train_images[image_ind])#, cmap=plt.cm.binary)\n",
        "    plt.xlabel(train_labels[image_ind])"
      ],
      "metadata": {
        "id": "59sfSBoSRX7K",
        "outputId": "b08adc2c-42ac-4dff-859d-52737bf9ffed",
        "colab": {
          "base_uri": "https://localhost:8080/",
          "height": 826
        }
      },
      "execution_count": 34,
      "outputs": [
        {
          "output_type": "display_data",
          "data": {
            "text/plain": [
              "<Figure size 1000x1000 with 36 Axes>"
            ],
            "image/png": "[encoded data removed]"
          },
          "metadata": {}
        }
      ]
    },
    {
      "cell_type": "markdown",
      "source": [
        "<h2> Machine Learning models"
      ],
      "metadata": {
        "id": "7unIpR63wD-h"
      }
    },
    {
      "cell_type": "code",
      "source": [
        "models = {'Logistic Regression':LogisticRegression(max_iter=10000),\n",
        "          'K Nearest Neighbours':KNeighborsClassifier(),\n",
        "          'Support Vector Machines':SVC(),\n",
        "          'Decision Tree':DecisionTreeClassifier()\n",
        "             }\n",
        "scores = ['accuracy']#'balanced accuracy','f1']\n",
        "results = pd.DataFrame(columns=list(models.keys()),index=scores)"
      ],
      "metadata": {
        "id": "dryDkS4gLqAk"
      },
      "execution_count": 35,
      "outputs": []
    },
    {
      "cell_type": "code",
      "source": [
        "N = 6000\n",
        "n = 600\n",
        "for model_name in tqdm(models):\n",
        "    model = models[model_name]\n",
        "    model.fit(train_images[:N].reshape(-1,28*28)/255, train_labels[:N])\n",
        "    predictions = model.predict(test_images[:n].reshape(-1,28*28)/255)\n",
        "    results.loc['accuracy',model_name] = accuracy_score(test_labels[:n],predictions)\n",
        "results.transpose()"
      ],
      "metadata": {
        "colab": {
          "base_uri": "https://localhost:8080/",
          "height": 190
        },
        "id": "DfjhXn_9Dyzs",
        "outputId": "b3477a67-40db-455e-d40a-b342dd820e53"
      },
      "execution_count": 37,
      "outputs": [
        {
          "output_type": "stream",
          "name": "stderr",
          "text": [
            "100%|██████████| 4/4 [00:22<00:00,  5.69s/it]\n"
          ]
        },
        {
          "output_type": "execute_result",
          "data": {
            "text/plain": [
              "                         accuracy\n",
              "Logistic Regression          0.89\n",
              "K Nearest Neighbours     0.918333\n",
              "Support Vector Machines  0.941667\n",
              "Decision Tree            0.766667"
            ],
            "text/html": [
              "\n",
              "  <div id=\"df-efca354c-b1dc-4297-ba39-ef6cff9a789d\">\n",
              "    <div class=\"colab-df-container\">\n",
              "      <div>\n",
              "<style scoped>\n",
              "    .dataframe tbody tr th:only-of-type {\n",
              "        vertical-align: middle;\n",
              "    }\n",
              "\n",
              "    .dataframe tbody tr th {\n",
              "        vertical-align: top;\n",
              "    }\n",
              "\n",
              "    .dataframe thead th {\n",
              "        text-align: right;\n",
              "    }\n",
              "</style>\n",
              "<table border=\"1\" class=\"dataframe\">\n",
              "  <thead>\n",
              "    <tr style=\"text-align: right;\">\n",
              "      <th></th>\n",
              "      <th>accuracy</th>\n",
              "    </tr>\n",
              "  </thead>\n",
              "  <tbody>\n",
              "    <tr>\n",
              "      <th>Logistic Regression</th>\n",
              "      <td>0.89</td>\n",
              "    </tr>\n",
              "    <tr>\n",
              "      <th>K Nearest Neighbours</th>\n",
              "      <td>0.918333</td>\n",
              "    </tr>\n",
              "    <tr>\n",
              "      <th>Support Vector Machines</th>\n",
              "      <td>0.941667</td>\n",
              "    </tr>\n",
              "    <tr>\n",
              "      <th>Decision Tree</th>\n",
              "      <td>0.766667</td>\n",
              "    </tr>\n",
              "  </tbody>\n",
              "</table>\n",
              "</div>\n",
              "      <button class=\"colab-df-convert\" onclick=\"convertToInteractive('df-efca354c-b1dc-4297-ba39-ef6cff9a789d')\"\n",
              "              title=\"Convert this dataframe to an interactive table.\"\n",
              "              style=\"display:none;\">\n",
              "        \n",
              "  <svg xmlns=\"http://www.w3.org/2000/svg\" height=\"24px\"viewBox=\"0 0 24 24\"\n",
              "       width=\"24px\">\n",
              "    <path d=\"M0 0h24v24H0V0z\" fill=\"none\"/>\n",
              "    <path d=\"M18.56 5.44l.94 2.06.94-2.06 2.06-.94-2.06-.94-.94-2.06-.94 2.06-2.06.94zm-11 1L8.5 8.5l.94-2.06 2.06-.94-2.06-.94L8.5 2.5l-.94 2.06-2.06.94zm10 10l.94 2.06.94-2.06 2.06-.94-2.06-.94-.94-2.06-.94 2.06-2.06.94z\"/><path d=\"M17.41 7.96l-1.37-1.37c-.4-.4-.92-.59-1.43-.59-.52 0-1.04.2-1.43.59L10.3 9.45l-7.72 7.72c-.78.78-.78 2.05 0 2.83L4 21.41c.39.39.9.59 1.41.59.51 0 1.02-.2 1.41-.59l7.78-7.78 2.81-2.81c.8-.78.8-2.07 0-2.86zM5.41 20L4 18.59l7.72-7.72 1.47 1.35L5.41 20z\"/>\n",
              "  </svg>\n",
              "      </button>\n",
              "      \n",
              "  <style>\n",
              "    .colab-df-container {\n",
              "      display:flex;\n",
              "      flex-wrap:wrap;\n",
              "      gap: 12px;\n",
              "    }\n",
              "\n",
              "    .colab-df-convert {\n",
              "      background-color: #E8F0FE;\n",
              "      border: none;\n",
              "      border-radius: 50%;\n",
              "      cursor: pointer;\n",
              "      display: none;\n",
              "      fill: #1967D2;\n",
              "      height: 32px;\n",
              "      padding: 0 0 0 0;\n",
              "      width: 32px;\n",
              "    }\n",
              "\n",
              "    .colab-df-convert:hover {\n",
              "      background-color: #E2EBFA;\n",
              "      box-shadow: 0px 1px 2px rgba(60, 64, 67, 0.3), 0px 1px 3px 1px rgba(60, 64, 67, 0.15);\n",
              "      fill: #174EA6;\n",
              "    }\n",
              "\n",
              "    [theme=dark] .colab-df-convert {\n",
              "      background-color: #3B4455;\n",
              "      fill: #D2E3FC;\n",
              "    }\n",
              "\n",
              "    [theme=dark] .colab-df-convert:hover {\n",
              "      background-color: #434B5C;\n",
              "      box-shadow: 0px 1px 3px 1px rgba(0, 0, 0, 0.15);\n",
              "      filter: drop-shadow(0px 1px 2px rgba(0, 0, 0, 0.3));\n",
              "      fill: #FFFFFF;\n",
              "    }\n",
              "  </style>\n",
              "\n",
              "      <script>\n",
              "        const buttonEl =\n",
              "          document.querySelector('#df-efca354c-b1dc-4297-ba39-ef6cff9a789d button.colab-df-convert');\n",
              "        buttonEl.style.display =\n",
              "          google.colab.kernel.accessAllowed ? 'block' : 'none';\n",
              "\n",
              "        async function convertToInteractive(key) {\n",
              "          const element = document.querySelector('#df-efca354c-b1dc-4297-ba39-ef6cff9a789d');\n",
              "          const dataTable =\n",
              "            await google.colab.kernel.invokeFunction('convertToInteractive',\n",
              "                                                     [key], {});\n",
              "          if (!dataTable) return;\n",
              "\n",
              "          const docLinkHtml = 'Like what you see? Visit the ' +\n",
              "            '<a target=\"_blank\" href=https://colab.research.google.com/notebooks/data_table.ipynb>data table notebook</a>'\n",
              "            + ' to learn more about interactive tables.';\n",
              "          element.innerHTML = '';\n",
              "          dataTable['output_type'] = 'display_data';\n",
              "          await google.colab.output.renderOutput(dataTable, element);\n",
              "          const docLink = document.createElement('div');\n",
              "          docLink.innerHTML = docLinkHtml;\n",
              "          element.appendChild(docLink);\n",
              "        }\n",
              "      </script>\n",
              "    </div>\n",
              "  </div>\n",
              "  "
            ]
          },
          "metadata": {},
          "execution_count": 37
        }
      ]
    },
    {
      "cell_type": "code",
      "source": [],
      "metadata": {
        "id": "x77blELdODK4"
      },
      "execution_count": null,
      "outputs": []
    },
    {
      "cell_type": "markdown",
      "source": [
        "<h2> Neural Networks </h2>"
      ],
      "metadata": {
        "id": "rXCgOpxnODda"
      }
    },
    {
      "cell_type": "code",
      "source": [
        "# These commands are to make the inputs suitable for neural network models\n",
        "train_images = (np.expand_dims(train_images, axis=-1)/255.).astype(np.float32)\n",
        "test_images = (np.expand_dims(test_images, axis=-1)/255.).astype(np.float32)\n",
        "train_labels = (train_labels).astype(np.int64)\n",
        "test_labels = (test_labels).astype(np.int64)\n",
        "\n",
        "# Or I can use array = array.reshape(-1, 28, 28, 1) / 255.0).astype(np.float32)"
      ],
      "metadata": {
        "id": "qd52Ot742njp"
      },
      "execution_count": null,
      "outputs": []
    },
    {
      "cell_type": "code",
      "source": [
        "plt.figure(figsize=(10,10))\n",
        "random_inds = np.random.choice(60000,36)\n",
        "for i in range(36):\n",
        "    plt.subplot(6,6,i+1)\n",
        "    plt.xticks([])\n",
        "    plt.yticks([])\n",
        "    plt.grid(False)\n",
        "    image_ind = random_inds[i]\n",
        "    # The command np.squeeze makes the array a 1-dimensional input suitable for plt.imshow()\n",
        "    plt.imshow(np.squeeze(train_images[image_ind]))#, cmap=plt.cm.binary)\n",
        "    plt.xlabel(train_labels[image_ind])"
      ],
      "metadata": {
        "colab": {
          "base_uri": "https://localhost:8080/",
          "height": 826
        },
        "id": "xF5fftnr2yLQ",
        "outputId": "879661a7-b9a5-4921-88f0-8e5ca412bb51"
      },
      "execution_count": null,
      "outputs": [
        {
          "output_type": "display_data",
          "data": {
            "text/plain": [
              "<Figure size 1000x1000 with 36 Axes>"
            ],
            "image/png": "[encoded data removed]"
          },
          "metadata": {}
        }
      ]
    },
    {
      "cell_type": "code",
      "source": [
        "def fully_connected_model():\n",
        "  fc_model = tf.keras.Sequential([\n",
        "      # I flatten the input so that it can be fed into the model\n",
        "      tf.keras.layers.Flatten(),\n",
        "\n",
        "      # Activation function for the first fully connected (Dense) layer\n",
        "      tf.keras.layers.Dense(128, activation= 'sigmoid'),\n",
        "\n",
        "      # Second Dense layer that outputs the probability distribution across the 10 classes (0 to 9)\n",
        "      tf.keras.layers.Dense(10, activation= 'softmax')\n",
        "\n",
        "  ])\n",
        "  return fc_model\n",
        "\n",
        "model = fully_connected_model()"
      ],
      "metadata": {
        "id": "KbVRYBlf203Z"
      },
      "execution_count": null,
      "outputs": []
    },
    {
      "cell_type": "code",
      "source": [
        "model.compile(optimizer=tf.keras.optimizers.SGD(learning_rate=1e-1),\n",
        "              loss='sparse_categorical_crossentropy',\n",
        "              metrics=['accuracy'])"
      ],
      "metadata": {
        "id": "stpk718M3JHj"
      },
      "execution_count": null,
      "outputs": []
    },
    {
      "cell_type": "code",
      "source": [
        "BATCH_SIZE = 64\n",
        "EPOCHS = 5\n",
        "\n",
        "model.fit(train_images, train_labels, batch_size=BATCH_SIZE, epochs=EPOCHS)"
      ],
      "metadata": {
        "colab": {
          "base_uri": "https://localhost:8080/"
        },
        "id": "xdZi6MMk3PcJ",
        "outputId": "0a87ae11-9290-46ea-8ae4-2195fa3e0fde"
      },
      "execution_count": null,
      "outputs": [
        {
          "output_type": "stream",
          "name": "stdout",
          "text": [
            "Epoch 1/5\n",
            "938/938 [==============================] - 10s 8ms/step - loss: 0.7086 - accuracy: 0.8287\n",
            "Epoch 2/5\n",
            "938/938 [==============================] - 6s 6ms/step - loss: 0.3536 - accuracy: 0.9003\n",
            "Epoch 3/5\n",
            "938/938 [==============================] - 5s 5ms/step - loss: 0.3077 - accuracy: 0.9117\n",
            "Epoch 4/5\n",
            "938/938 [==============================] - 4s 4ms/step - loss: 0.2822 - accuracy: 0.9188\n",
            "Epoch 5/5\n",
            "938/938 [==============================] - 3s 3ms/step - loss: 0.2619 - accuracy: 0.9250\n"
          ]
        },
        {
          "output_type": "execute_result",
          "data": {
            "text/plain": [
              "<keras.callbacks.History at 0x7f05b71c72b0>"
            ]
          },
          "metadata": {},
          "execution_count": 6
        }
      ]
    },
    {
      "cell_type": "code",
      "source": [
        "'''TODO: Use the evaluate method to test the model!'''\n",
        "test_loss, test_acc = model.evaluate(test_images, test_labels)\n",
        "\n",
        "print('Test accuracy:', test_acc)"
      ],
      "metadata": {
        "colab": {
          "base_uri": "https://localhost:8080/"
        },
        "id": "uF4cilkt34O_",
        "outputId": "2bddb223-ba57-47c5-d8f3-a36fca26f5a5"
      },
      "execution_count": null,
      "outputs": [
        {
          "output_type": "stream",
          "name": "stdout",
          "text": [
            "313/313 [==============================] - 1s 3ms/step - loss: 0.2503 - accuracy: 0.9292\n",
            "Test accuracy: 0.9291999936103821\n"
          ]
        }
      ]
    },
    {
      "cell_type": "code",
      "source": [
        "def build_cnn_model():\n",
        "    cnn_model = tf.keras.Sequential([\n",
        "        # TODO: Define the first convolutional layer\n",
        "        tf.keras.layers.Conv2D(filters=24, kernel_size=(3,3), activation=tf.nn.relu ),\n",
        "\n",
        "        # TODO: Define the first max pooling layer\n",
        "        tf.keras.layers.MaxPool2D(pool_size=(2,2)),\n",
        "\n",
        "        # TODO: Define the second convolutional layer\n",
        "        tf.keras.layers.Conv2D(filters=36, kernel_size=(3,3), activation=tf.nn.relu ),\n",
        "\n",
        "        # TODO: Define the second max pooling layer\n",
        "        tf.keras.layers.MaxPool2D(pool_size=(2,2)),\n",
        "\n",
        "        tf.keras.layers.Flatten(),\n",
        "        tf.keras.layers.Dense(128, activation=tf.nn.relu),\n",
        "\n",
        "        # The last Dense layer to output the classification probabilities. Pay attention to the activation needed a probability\n",
        "        # output\n",
        "        tf.keras.layers.Dense(10, activation=tf.nn.softmax)\n",
        "    ])\n",
        "\n",
        "    return cnn_model\n",
        "\n",
        "cnn_model = build_cnn_model()\n",
        "# Initialize the model by passing some data through\n",
        "cnn_model.predict(train_images[[0]])\n",
        "# Print the summary of the layers in the model.\n",
        "print(cnn_model.summary())"
      ],
      "metadata": {
        "colab": {
          "base_uri": "https://localhost:8080/"
        },
        "id": "vCOEWQIw9Kav",
        "outputId": "48180dc3-6a23-4d35-bb5a-14729cdbdc11"
      },
      "execution_count": null,
      "outputs": [
        {
          "output_type": "stream",
          "name": "stdout",
          "text": [
            "1/1 [==============================] - 4s 4s/step\n",
            "Model: \"sequential_1\"\n",
            "_________________________________________________________________\n",
            " Layer (type)                Output Shape              Param #   \n",
            "=================================================================\n",
            " conv2d (Conv2D)             (None, 26, 26, 24)        240       \n",
            "                                                                 \n",
            " max_pooling2d (MaxPooling2D  (None, 13, 13, 24)       0         \n",
            " )                                                               \n",
            "                                                                 \n",
            " conv2d_1 (Conv2D)           (None, 11, 11, 36)        7812      \n",
            "                                                                 \n",
            " max_pooling2d_1 (MaxPooling  (None, 5, 5, 36)         0         \n",
            " 2D)                                                             \n",
            "                                                                 \n",
            " flatten_1 (Flatten)         (None, 900)               0         \n",
            "                                                                 \n",
            " dense_2 (Dense)             (None, 128)               115328    \n",
            "                                                                 \n",
            " dense_3 (Dense)             (None, 10)                1290      \n",
            "                                                                 \n",
            "=================================================================\n",
            "Total params: 124,670\n",
            "Trainable params: 124,670\n",
            "Non-trainable params: 0\n",
            "_________________________________________________________________\n",
            "None\n"
          ]
        }
      ]
    },
    {
      "cell_type": "code",
      "source": [
        "cnn_model.compile(optimizer=tf.keras.optimizers.Adam(learning_rate=1e-3), # Hanging indent style\n",
        "                  loss=tf.keras.losses.sparse_categorical_crossentropy,\n",
        "                  metrics=['accuracy'])\n",
        "\n",
        "# I train the CNN model, with the same batch_size and number of epochs previously used\n",
        "cnn_model.fit(train_images, train_labels, batch_size=BATCH_SIZE, epochs=EPOCHS)"
      ],
      "metadata": {
        "colab": {
          "base_uri": "https://localhost:8080/"
        },
        "id": "9NJ26nxaN9nM",
        "outputId": "1fb7f223-b0e8-4337-d762-d73580732c9a"
      },
      "execution_count": null,
      "outputs": [
        {
          "output_type": "stream",
          "name": "stdout",
          "text": [
            "Epoch 1/5\n",
            "938/938 [==============================] - 9s 5ms/step - loss: 0.1754 - accuracy: 0.9480\n",
            "Epoch 2/5\n",
            "938/938 [==============================] - 5s 5ms/step - loss: 0.0545 - accuracy: 0.9832\n",
            "Epoch 3/5\n",
            "938/938 [==============================] - 5s 5ms/step - loss: 0.0385 - accuracy: 0.9880\n",
            "Epoch 4/5\n",
            "938/938 [==============================] - 4s 5ms/step - loss: 0.0293 - accuracy: 0.9911\n",
            "Epoch 5/5\n",
            "938/938 [==============================] - 5s 6ms/step - loss: 0.0231 - accuracy: 0.9926\n"
          ]
        },
        {
          "output_type": "execute_result",
          "data": {
            "text/plain": [
              "<keras.callbacks.History at 0x7f05b6ee7fd0>"
            ]
          },
          "metadata": {},
          "execution_count": 9
        }
      ]
    },
    {
      "cell_type": "code",
      "source": [
        "# I test the models accuracy with test data\n",
        "test_loss, test_acc = cnn_model.evaluate(test_images,test_labels)\n",
        "\n",
        "print('Test accuracy:', test_acc)\n",
        "print('Much better that a standard fully connected layer')"
      ],
      "metadata": {
        "colab": {
          "base_uri": "https://localhost:8080/"
        },
        "id": "qfY92vqiMMq8",
        "outputId": "08d8dc3b-0593-4bff-a0d8-55d6678a9acf"
      },
      "execution_count": null,
      "outputs": [
        {
          "output_type": "stream",
          "name": "stdout",
          "text": [
            "313/313 [==============================] - 1s 3ms/step - loss: 0.0307 - accuracy: 0.9903\n",
            "Test accuracy: 0.9902999997138977\n",
            "Much better that a standard fully connected layer\n"
          ]
        }
      ]
    },
    {
      "cell_type": "code",
      "source": [
        "predictions = cnn_model.predict(test_images)\n",
        "predictions[0]"
      ],
      "metadata": {
        "colab": {
          "base_uri": "https://localhost:8080/"
        },
        "id": "EzPYGs5kSFKr",
        "outputId": "7753625d-9a92-41e1-8d5b-dd0dc01cef2b"
      },
      "execution_count": null,
      "outputs": [
        {
          "output_type": "stream",
          "name": "stdout",
          "text": [
            "313/313 [==============================] - 1s 2ms/step\n"
          ]
        },
        {
          "output_type": "execute_result",
          "data": {
            "text/plain": [
              "array([9.3360953e-08, 6.5635660e-08, 8.2244263e-08, 6.8915955e-07,\n",
              "       3.8459258e-09, 8.2331442e-10, 8.7096655e-13, 9.9999213e-01,\n",
              "       7.4712165e-09, 6.8684312e-06], dtype=float32)"
            ]
          },
          "metadata": {},
          "execution_count": 11
        }
      ]
    },
    {
      "cell_type": "code",
      "source": [
        "prediction = np.argmax(predictions[0])\n",
        "print(prediction)"
      ],
      "metadata": {
        "colab": {
          "base_uri": "https://localhost:8080/"
        },
        "id": "dE40XhG7SLkD",
        "outputId": "186f5593-2fab-4efe-9d96-710d12153f74"
      },
      "execution_count": null,
      "outputs": [
        {
          "output_type": "stream",
          "name": "stdout",
          "text": [
            "7\n"
          ]
        }
      ]
    },
    {
      "cell_type": "code",
      "source": [
        "print(\"Label of this digit is:\", test_labels[0])\n",
        "plt.figure(figsize=(2,2))\n",
        "plt.imshow(test_images[0,:,:,0], cmap=plt.cm.binary)\n",
        "plt.show()"
      ],
      "metadata": {
        "colab": {
          "base_uri": "https://localhost:8080/",
          "height": 234
        },
        "id": "-sG5V-9sSg0c",
        "outputId": "27b0db82-d0ef-4c68-df4a-7d3055ef80de"
      },
      "execution_count": null,
      "outputs": [
        {
          "output_type": "stream",
          "name": "stdout",
          "text": [
            "Label of this digit is: 7\n"
          ]
        },
        {
          "output_type": "display_data",
          "data": {
            "text/plain": [
              "<Figure size 200x200 with 1 Axes>"
            ],
            "image/png": "[encoded data removed]"
          },
          "metadata": {}
        }
      ]
    },
    {
      "cell_type": "code",
      "source": [],
      "metadata": {
        "id": "-p1RFoMGTOAP"
      },
      "execution_count": null,
      "outputs": []
    }
  ]
}