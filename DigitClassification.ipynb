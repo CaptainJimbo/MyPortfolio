{
  "nbformat": 4,
  "nbformat_minor": 0,
  "metadata": {
    "colab": {
      "provenance": [],
      "gpuType": "T4",
      "authorship_tag": "ABX9TyMOgfxqsCcBW6gTogUG2a23",
      "include_colab_link": true
    },
    "kernelspec": {
      "name": "python3",
      "display_name": "Python 3"
    },
    "language_info": {
      "name": "python"
    }
  },
  "cells": [
    {
      "cell_type": "markdown",
      "metadata": {
        "id": "view-in-github",
        "colab_type": "text"
      },
      "source": [
        "<a href=\"https://colab.research.google.com/github/CaptainJimbo/MyPortfolio/blob/main/DigitClassification.ipynb\" target=\"_parent\"><img src=\"https://colab.research.google.com/assets/colab-badge.svg\" alt=\"Open In Colab\"/></a>"
      ]
    },
    {
      "cell_type": "markdown",
      "source": [
        "<table align=\"left\">\n",
        "  <td align=\"left\">\n",
        "  <a target=\"_blank\" href=\"https://dimitriskogias.wixsite.com/spacecowboy\" style=\"text-decoration: none; display: flex; align-items: center; color: white; background-color: purple; padding: 10px; border-radius: 5px;\">\n",
        "      <img src=\"https://static.wikia.nocookie.net/bravestarr/images/6/6d/Lucas_Conway.png/revision/latest?cb=20211111224054\" width=\"40px\" height=\"40px\" style=\"border-radius: 50%; margin-right: 10px;\" />\n",
        "      <span>Visit my Webpage</span>\n",
        "    </a>\n",
        "  </td>\n",
        "</table>\n",
        "\n"
      ],
      "metadata": {
        "id": "ysLjtWmgZxn4"
      }
    },
    {
      "cell_type": "markdown",
      "source": [
        "<table align=\"left\">\n",
        "  <td align=\"left\"><a target=\"_blank\" href=\"https://github.com/CaptainJimbo/MyPortfolio/blob/main/DigitClassification.ipynb\" style=\"text-decoration: none; display: flex; align-items: center; color: black; background-color: lightgray; padding: 10px; border-radius: 5px;\">\n",
        "        <img src=\"https://i.ibb.co/xfJbPmL/github.png\"  width=\"40px\" height=\"40px\" style=\"border-radius: 50%; margin-right: 10px;\"   />View it on GitHub</a></td>\n",
        "</table>\n"
      ],
      "metadata": {
        "id": "eMxV3Qg2WvYN"
      }
    },
    {
      "cell_type": "markdown",
      "source": [
        "<h1 align='center'> <b>THE MNIST DATABASE <i>of handwritten digits</i> </b>\n",
        "</h1>\n",
        "<p align='center'>\n",
        "    <b>Yann LeCun</b>, Courant Institute, NYU<br>\n",
        "    <b>Corinna Cortes</b>, Google Labs, New York<br>\n",
        "    <b>Christopher J.C. Burges</b>, Microsoft Research, Redmond<br>\n",
        "</p>\n",
        "\n",
        "<p>The MNIST database of handwritten digits, has a training set of 60,000 examples, and a test set of 10,000 examples. The digits have been size-normalized and centered in a fixed-size image. It is a good database for implementing Machine Learning and Neural Network methods while spending minimal efforts on preprocessing and formatting.\n",
        "I will build models that once able to read the random handwrittten digits from images after they are trained from labeled images (supervised learning, neural networks, deep learning models) or groupify the handwritten digits in categories for self-labeling. This a computer vision problem. </p>\n",
        "<p>METHODS IMPLEMENTED:\n",
        "<ul>\n",
        "    <li> Supervised Learning\n",
        "    <ul>\n",
        "        <li> Logistic Regression\n",
        "        <li> K-Nearest Neighbours\n",
        "        <li> Support Vector Machines\n",
        "        <li> Decision Tree Classifier\n",
        "    </ul>\n",
        "    <li> Unsupervised Learning\n",
        "    <ul>\n",
        "        <li> KMeans\n",
        "        <li> DBSCAN\n",
        "        <li> t-SNE\n",
        "        <li> Semisuprvised Learning\n",
        "        <li> others\n",
        "    </ul>\n",
        "    <li> Neural Networks\n",
        "    <ul>\n",
        "        <li> Fully Connected Layer Model\n",
        "        <li> Convolutional Neural Network Model\n",
        "    </ul>\n",
        "</ul>\n",
        "<p>"
      ],
      "metadata": {
        "id": "jeHlQsqkuSHB"
      }
    },
    {
      "cell_type": "code",
      "execution_count": 1,
      "metadata": {
        "id": "KX_dZJTk2ck_"
      },
      "outputs": [],
      "source": [
        "# Dataset\n",
        "from tensorflow.keras.datasets import mnist\n",
        "\n",
        "# Important Libraries\n",
        "import matplotlib.pyplot as plt\n",
        "import pandas as pd\n",
        "import numpy as np\n",
        "import random\n",
        "from tqdm import tqdm\n",
        "\n",
        "# Machine Learning\n",
        "from sklearn.pipeline import Pipeline\n",
        "from sklearn.preprocessing import StandardScaler\n",
        "from sklearn.linear_model import LogisticRegression\n",
        "from sklearn.neighbors import KNeighborsClassifier\n",
        "from sklearn.svm import SVC\n",
        "from sklearn.tree import DecisionTreeClassifier\n",
        "from sklearn.metrics import accuracy_score\n",
        "\n",
        "# Neural Networks\n",
        "import tensorflow as tf\n",
        "# assert len(tf.config.list_physical_devices('GPU')) > 0"
      ]
    },
    {
      "cell_type": "code",
      "source": [
        "# Load the dataset. It is a tuple of two tuples with arrays which are images in array type.\n",
        "(train_images, train_labels), (test_images, test_labels) = mnist.load_data()"
      ],
      "metadata": {
        "id": "IWiv6loyouyS"
      },
      "execution_count": 2,
      "outputs": []
    },
    {
      "cell_type": "code",
      "source": [
        "plt.figure(figsize=(10,10))\n",
        "random_inds = np.random.choice(60000,36)\n",
        "for i in range(36):\n",
        "    plt.subplot(6,6,i+1)\n",
        "    plt.xticks([])\n",
        "    plt.yticks([])\n",
        "    plt.grid(False)\n",
        "    image_ind = random_inds[i]\n",
        "    plt.imshow(train_images[image_ind])#, cmap=plt.cm.binary)\n",
        "    plt.xlabel(train_labels[image_ind])"
      ],
      "metadata": {
        "id": "59sfSBoSRX7K",
        "outputId": "8b5e22f1-b7e2-4c97-cf60-3d25bb39e1ed",
        "colab": {
          "base_uri": "https://localhost:8080/",
          "height": 826
        }
      },
      "execution_count": 3,
      "outputs": [
        {
          "output_type": "display_data",
          "data": {
            "text/plain": [
              "<Figure size 1000x1000 with 36 Axes>"
            ],
            "image/png": "[encoded data removed]"
          },
          "metadata": {}
        }
      ]
    },
    {
      "cell_type": "markdown",
      "source": [
        "<h2> Supervised Learning </h2>\n",
        "<a id=\"LR\"></a>  \n",
        "    <ul>\n",
        "        <li> Logistic Regression\n",
        "        <li> K-Nearest Neighbours\n",
        "        <li> Support Vector Machines\n",
        "        <li> Decision Tree Classifier\n",
        "    </ul>"
      ],
      "metadata": {
        "id": "0DMhN9U4Z-xy"
      }
    },
    {
      "cell_type": "code",
      "source": [
        "models = {'Logistic Regression':LogisticRegression(max_iter=10000),\n",
        "          'K Nearest Neighbours':KNeighborsClassifier(),\n",
        "          'Support Vector Machines':SVC(),\n",
        "          'Decision Tree':DecisionTreeClassifier()\n",
        "             }\n",
        "scores = ['accuracy']#'balanced accuracy','f1']\n",
        "results = pd.DataFrame(columns=list(models.keys()),index=scores)"
      ],
      "metadata": {
        "id": "dryDkS4gLqAk"
      },
      "execution_count": 4,
      "outputs": []
    },
    {
      "cell_type": "code",
      "source": [
        "N = 6000\n",
        "n = 600\n",
        "for model_name in tqdm(models):\n",
        "    model = models[model_name]\n",
        "    model.fit(train_images[:N].reshape(-1,28*28)/255, train_labels[:N])\n",
        "    predictions = model.predict(test_images[:n].reshape(-1,28*28)/255)\n",
        "    results.loc['accuracy',model_name] = accuracy_score(test_labels[:n],predictions)\n",
        "results.transpose()"
      ],
      "metadata": {
        "colab": {
          "base_uri": "https://localhost:8080/",
          "height": 190
        },
        "id": "DfjhXn_9Dyzs",
        "outputId": "59f29a36-2303-449d-d759-abf4140eecf1"
      },
      "execution_count": 5,
      "outputs": [
        {
          "output_type": "stream",
          "name": "stderr",
          "text": [
            "100%|██████████| 4/4 [00:46<00:00, 11.56s/it]\n"
          ]
        },
        {
          "output_type": "execute_result",
          "data": {
            "text/plain": [
              "                         accuracy\n",
              "Logistic Regression          0.89\n",
              "K Nearest Neighbours     0.918333\n",
              "Support Vector Machines  0.941667\n",
              "Decision Tree            0.761667"
            ],
            "text/html": [
              "\n",
              "  <div id=\"df-7697c307-367d-4027-8140-4d46bbcb4928\">\n",
              "    <div class=\"colab-df-container\">\n",
              "      <div>\n",
              "<style scoped>\n",
              "    .dataframe tbody tr th:only-of-type {\n",
              "        vertical-align: middle;\n",
              "    }\n",
              "\n",
              "    .dataframe tbody tr th {\n",
              "        vertical-align: top;\n",
              "    }\n",
              "\n",
              "    .dataframe thead th {\n",
              "        text-align: right;\n",
              "    }\n",
              "</style>\n",
              "<table border=\"1\" class=\"dataframe\">\n",
              "  <thead>\n",
              "    <tr style=\"text-align: right;\">\n",
              "      <th></th>\n",
              "      <th>accuracy</th>\n",
              "    </tr>\n",
              "  </thead>\n",
              "  <tbody>\n",
              "    <tr>\n",
              "      <th>Logistic Regression</th>\n",
              "      <td>0.89</td>\n",
              "    </tr>\n",
              "    <tr>\n",
              "      <th>K Nearest Neighbours</th>\n",
              "      <td>0.918333</td>\n",
              "    </tr>\n",
              "    <tr>\n",
              "      <th>Support Vector Machines</th>\n",
              "      <td>0.941667</td>\n",
              "    </tr>\n",
              "    <tr>\n",
              "      <th>Decision Tree</th>\n",
              "      <td>0.761667</td>\n",
              "    </tr>\n",
              "  </tbody>\n",
              "</table>\n",
              "</div>\n",
              "      <button class=\"colab-df-convert\" onclick=\"convertToInteractive('df-7697c307-367d-4027-8140-4d46bbcb4928')\"\n",
              "              title=\"Convert this dataframe to an interactive table.\"\n",
              "              style=\"display:none;\">\n",
              "        \n",
              "  <svg xmlns=\"http://www.w3.org/2000/svg\" height=\"24px\"viewBox=\"0 0 24 24\"\n",
              "       width=\"24px\">\n",
              "    <path d=\"M0 0h24v24H0V0z\" fill=\"none\"/>\n",
              "    <path d=\"M18.56 5.44l.94 2.06.94-2.06 2.06-.94-2.06-.94-.94-2.06-.94 2.06-2.06.94zm-11 1L8.5 8.5l.94-2.06 2.06-.94-2.06-.94L8.5 2.5l-.94 2.06-2.06.94zm10 10l.94 2.06.94-2.06 2.06-.94-2.06-.94-.94-2.06-.94 2.06-2.06.94z\"/><path d=\"M17.41 7.96l-1.37-1.37c-.4-.4-.92-.59-1.43-.59-.52 0-1.04.2-1.43.59L10.3 9.45l-7.72 7.72c-.78.78-.78 2.05 0 2.83L4 21.41c.39.39.9.59 1.41.59.51 0 1.02-.2 1.41-.59l7.78-7.78 2.81-2.81c.8-.78.8-2.07 0-2.86zM5.41 20L4 18.59l7.72-7.72 1.47 1.35L5.41 20z\"/>\n",
              "  </svg>\n",
              "      </button>\n",
              "      \n",
              "  <style>\n",
              "    .colab-df-container {\n",
              "      display:flex;\n",
              "      flex-wrap:wrap;\n",
              "      gap: 12px;\n",
              "    }\n",
              "\n",
              "    .colab-df-convert {\n",
              "      background-color: #E8F0FE;\n",
              "      border: none;\n",
              "      border-radius: 50%;\n",
              "      cursor: pointer;\n",
              "      display: none;\n",
              "      fill: #1967D2;\n",
              "      height: 32px;\n",
              "      padding: 0 0 0 0;\n",
              "      width: 32px;\n",
              "    }\n",
              "\n",
              "    .colab-df-convert:hover {\n",
              "      background-color: #E2EBFA;\n",
              "      box-shadow: 0px 1px 2px rgba(60, 64, 67, 0.3), 0px 1px 3px 1px rgba(60, 64, 67, 0.15);\n",
              "      fill: #174EA6;\n",
              "    }\n",
              "\n",
              "    [theme=dark] .colab-df-convert {\n",
              "      background-color: #3B4455;\n",
              "      fill: #D2E3FC;\n",
              "    }\n",
              "\n",
              "    [theme=dark] .colab-df-convert:hover {\n",
              "      background-color: #434B5C;\n",
              "      box-shadow: 0px 1px 3px 1px rgba(0, 0, 0, 0.15);\n",
              "      filter: drop-shadow(0px 1px 2px rgba(0, 0, 0, 0.3));\n",
              "      fill: #FFFFFF;\n",
              "    }\n",
              "  </style>\n",
              "\n",
              "      <script>\n",
              "        const buttonEl =\n",
              "          document.querySelector('#df-7697c307-367d-4027-8140-4d46bbcb4928 button.colab-df-convert');\n",
              "        buttonEl.style.display =\n",
              "          google.colab.kernel.accessAllowed ? 'block' : 'none';\n",
              "\n",
              "        async function convertToInteractive(key) {\n",
              "          const element = document.querySelector('#df-7697c307-367d-4027-8140-4d46bbcb4928');\n",
              "          const dataTable =\n",
              "            await google.colab.kernel.invokeFunction('convertToInteractive',\n",
              "                                                     [key], {});\n",
              "          if (!dataTable) return;\n",
              "\n",
              "          const docLinkHtml = 'Like what you see? Visit the ' +\n",
              "            '<a target=\"_blank\" href=https://colab.research.google.com/notebooks/data_table.ipynb>data table notebook</a>'\n",
              "            + ' to learn more about interactive tables.';\n",
              "          element.innerHTML = '';\n",
              "          dataTable['output_type'] = 'display_data';\n",
              "          await google.colab.output.renderOutput(dataTable, element);\n",
              "          const docLink = document.createElement('div');\n",
              "          docLink.innerHTML = docLinkHtml;\n",
              "          element.appendChild(docLink);\n",
              "        }\n",
              "      </script>\n",
              "    </div>\n",
              "  </div>\n",
              "  "
            ]
          },
          "metadata": {},
          "execution_count": 5
        }
      ]
    },
    {
      "cell_type": "markdown",
      "source": [
        "<h2> Supervised Learning </h2>\n",
        "<a id=\"LR\"></a>  \n",
        "    <ul>\n",
        "        <li> Neural Networks\n",
        "        <ul>\n",
        "            <li> Fully Connected Layers\n",
        "            <li> Convolutional Neural Networks\n",
        "        </ul>\n",
        "    </ul>"
      ],
      "metadata": {
        "id": "x77blELdODK4"
      }
    },
    {
      "cell_type": "code",
      "source": [
        "# These commands are to make the inputs suitable for neural network models\n",
        "train_images = (np.expand_dims(train_images, axis=-1)/255.).astype(np.float32)\n",
        "test_images = (np.expand_dims(test_images, axis=-1)/255.).astype(np.float32)\n",
        "train_labels = (train_labels).astype(np.int64)\n",
        "test_labels = (test_labels).astype(np.int64)\n",
        "\n",
        "# Or I can use array = array.reshape(-1, 28, 28, 1) / 255.0).astype(np.float32)"
      ],
      "metadata": {
        "id": "qd52Ot742njp"
      },
      "execution_count": 31,
      "outputs": []
    },
    {
      "cell_type": "code",
      "source": [
        "print('Let\\'s check some images again')\n",
        "plt.figure(figsize=(10,10))\n",
        "random_inds = np.random.choice(60000,36)\n",
        "for i in range(36):\n",
        "    plt.subplot(6,6,i+1)\n",
        "    plt.xticks([])\n",
        "    plt.yticks([])\n",
        "    plt.grid(False)\n",
        "    image_ind = random_inds[i]\n",
        "    # The command np.squeeze makes the array a 1-dimensional input suitable for plt.imshow()\n",
        "    plt.imshow(np.squeeze(train_images[image_ind]))#, cmap=plt.cm.binary)\n",
        "    plt.xlabel(train_labels[image_ind])"
      ],
      "metadata": {
        "colab": {
          "base_uri": "https://localhost:8080/",
          "height": 843
        },
        "id": "xF5fftnr2yLQ",
        "outputId": "b470ca57-c1ff-4f06-c02e-ec2c5947f9bd"
      },
      "execution_count": 7,
      "outputs": [
        {
          "output_type": "stream",
          "name": "stdout",
          "text": [
            "Let's check some images again\n"
          ]
        },
        {
          "output_type": "display_data",
          "data": {
            "text/plain": [
              "<Figure size 1000x1000 with 36 Axes>"
            ],
            "image/png": "[encoded data removed]"
          },
          "metadata": {}
        }
      ]
    },
    {
      "cell_type": "code",
      "source": [
        "# A fucntuon for a fully connected layer\n",
        "def fully_connected_model():\n",
        "  fc_model = tf.keras.Sequential([\n",
        "      # I flatten the input so that it can be fed into the model\n",
        "      tf.keras.layers.Flatten(),\n",
        "      # Activation function for the first fully connected (Dense) layer\n",
        "      tf.keras.layers.Dense(128, activation= 'sigmoid'),\n",
        "      # Second Dense layer that outputs the probability distribution across the 10 classes (0 to 9)\n",
        "      tf.keras.layers.Dense(10, activation= 'softmax')\n",
        "  ])\n",
        "  return fc_model\n",
        "\n",
        "model = fully_connected_model()\n",
        "#model.predict(train_images[[0]])\n",
        "model.compile(optimizer=tf.keras.optimizers.SGD(learning_rate=1e-1),\n",
        "              loss='sparse_categorical_crossentropy',\n",
        "              metrics=['accuracy'])"
      ],
      "metadata": {
        "id": "KbVRYBlf203Z"
      },
      "execution_count": 8,
      "outputs": []
    },
    {
      "cell_type": "code",
      "source": [
        "BATCH_SIZE = 64\n",
        "EPOCHS = 5\n",
        "model.fit(train_images, train_labels, batch_size=BATCH_SIZE, epochs=EPOCHS)"
      ],
      "metadata": {
        "colab": {
          "base_uri": "https://localhost:8080/"
        },
        "id": "xdZi6MMk3PcJ",
        "outputId": "6f0477fc-505d-4cc7-826c-0ad9a834d53f"
      },
      "execution_count": 9,
      "outputs": [
        {
          "output_type": "stream",
          "name": "stdout",
          "text": [
            "Epoch 1/5\n",
            "938/938 [==============================] - 4s 4ms/step - loss: 0.7152 - accuracy: 0.8238\n",
            "Epoch 2/5\n",
            "938/938 [==============================] - 4s 4ms/step - loss: 0.3549 - accuracy: 0.9012\n",
            "Epoch 3/5\n",
            "938/938 [==============================] - 3s 4ms/step - loss: 0.3089 - accuracy: 0.9119\n",
            "Epoch 4/5\n",
            "938/938 [==============================] - 3s 3ms/step - loss: 0.2834 - accuracy: 0.9189\n",
            "Epoch 5/5\n",
            "938/938 [==============================] - 4s 4ms/step - loss: 0.2639 - accuracy: 0.9244\n"
          ]
        },
        {
          "output_type": "execute_result",
          "data": {
            "text/plain": [
              "<keras.callbacks.History at 0x7f95ae583310>"
            ]
          },
          "metadata": {},
          "execution_count": 9
        }
      ]
    },
    {
      "cell_type": "code",
      "source": [
        "test_loss, test_acc = model.evaluate(test_images, test_labels)\n",
        "results['fully connected model'] = test_acc\n",
        "print('Test accuracy:', test_acc)"
      ],
      "metadata": {
        "colab": {
          "base_uri": "https://localhost:8080/"
        },
        "id": "uF4cilkt34O_",
        "outputId": "d4a60c7a-06d5-4ee9-a1da-0350c6e5cea5"
      },
      "execution_count": 10,
      "outputs": [
        {
          "output_type": "stream",
          "name": "stdout",
          "text": [
            "313/313 [==============================] - 1s 2ms/step - loss: 0.2499 - accuracy: 0.9290\n",
            "Test accuracy: 0.9290000200271606\n"
          ]
        }
      ]
    },
    {
      "cell_type": "code",
      "source": [
        "# A Convolutional Neural Network, CNN\n",
        "def build_cnn_model():\n",
        "    cnn_model = tf.keras.Sequential([\n",
        "        # Convolutional Layer #1\n",
        "        tf.keras.layers.Conv2D(filters=24, kernel_size=(3,3), activation=tf.nn.relu ),\n",
        "        # Max pooling layer #1\n",
        "        tf.keras.layers.MaxPool2D(pool_size=(2,2)),\n",
        "        # Convolutional Layer #2\n",
        "        tf.keras.layers.Conv2D(filters=36, kernel_size=(3,3), activation=tf.nn.relu ),\n",
        "        # Max pooling layer #2\n",
        "        tf.keras.layers.MaxPool2D(pool_size=(2,2)),\n",
        "        tf.keras.layers.Flatten(),\n",
        "        tf.keras.layers.Dense(128, activation=tf.nn.relu),\n",
        "        # Final Dense layer that outputs probabilities, hence softmax.\n",
        "        tf.keras.layers.Dense(10, activation=tf.nn.softmax)\n",
        "    ])\n",
        "\n",
        "    return cnn_model\n",
        "\n",
        "cnn_model = build_cnn_model()\n",
        "# Some data through to initiatem cnn_mocel\n",
        "cnn_model.predict(train_images[[0]])\n",
        "print(cnn_model.summary())"
      ],
      "metadata": {
        "colab": {
          "base_uri": "https://localhost:8080/"
        },
        "id": "vCOEWQIw9Kav",
        "outputId": "97df5aba-3e09-4a12-db3e-0f0a6c0f0f69"
      },
      "execution_count": 11,
      "outputs": [
        {
          "output_type": "stream",
          "name": "stdout",
          "text": [
            "1/1 [==============================] - 0s 291ms/step\n",
            "Model: \"sequential_1\"\n",
            "_________________________________________________________________\n",
            " Layer (type)                Output Shape              Param #   \n",
            "=================================================================\n",
            " conv2d (Conv2D)             (None, 26, 26, 24)        240       \n",
            "                                                                 \n",
            " max_pooling2d (MaxPooling2D  (None, 13, 13, 24)       0         \n",
            " )                                                               \n",
            "                                                                 \n",
            " conv2d_1 (Conv2D)           (None, 11, 11, 36)        7812      \n",
            "                                                                 \n",
            " max_pooling2d_1 (MaxPooling  (None, 5, 5, 36)         0         \n",
            " 2D)                                                             \n",
            "                                                                 \n",
            " flatten_1 (Flatten)         (None, 900)               0         \n",
            "                                                                 \n",
            " dense_2 (Dense)             (None, 128)               115328    \n",
            "                                                                 \n",
            " dense_3 (Dense)             (None, 10)                1290      \n",
            "                                                                 \n",
            "=================================================================\n",
            "Total params: 124,670\n",
            "Trainable params: 124,670\n",
            "Non-trainable params: 0\n",
            "_________________________________________________________________\n",
            "None\n"
          ]
        }
      ]
    },
    {
      "cell_type": "code",
      "source": [
        "cnn_model.compile(optimizer=tf.keras.optimizers.Adam(learning_rate=1e-3), # Hanging indent style\n",
        "                  loss=tf.keras.losses.sparse_categorical_crossentropy,\n",
        "                  metrics=['accuracy'])\n",
        "\n",
        "# I train the CNN model, with the same batch_size and number of epochs previously used\n",
        "cnn_model.fit(train_images, train_labels, batch_size=BATCH_SIZE, epochs=EPOCHS)"
      ],
      "metadata": {
        "colab": {
          "base_uri": "https://localhost:8080/"
        },
        "id": "9NJ26nxaN9nM",
        "outputId": "31a4ea8b-168b-41f4-ab7e-5587ac6b8d27"
      },
      "execution_count": 12,
      "outputs": [
        {
          "output_type": "stream",
          "name": "stdout",
          "text": [
            "Epoch 1/5\n",
            "938/938 [==============================] - 43s 45ms/step - loss: 0.1693 - accuracy: 0.9510\n",
            "Epoch 2/5\n",
            "938/938 [==============================] - 45s 48ms/step - loss: 0.0535 - accuracy: 0.9834\n",
            "Epoch 3/5\n",
            "938/938 [==============================] - 42s 45ms/step - loss: 0.0370 - accuracy: 0.9886\n",
            "Epoch 4/5\n",
            "938/938 [==============================] - 43s 46ms/step - loss: 0.0267 - accuracy: 0.9911\n",
            "Epoch 5/5\n",
            "938/938 [==============================] - 41s 44ms/step - loss: 0.0202 - accuracy: 0.9936\n"
          ]
        },
        {
          "output_type": "execute_result",
          "data": {
            "text/plain": [
              "<keras.callbacks.History at 0x7f95a911c640>"
            ]
          },
          "metadata": {},
          "execution_count": 12
        }
      ]
    },
    {
      "cell_type": "code",
      "source": [
        "# I test the models accuracy with test data\n",
        "test_loss, test_acc = cnn_model.evaluate(test_images,test_labels)\n",
        "results['cnn model'] = test_acc\n",
        "print('Test accuracy:', test_acc)\n",
        "print('Much better that a standard fully connected layer')"
      ],
      "metadata": {
        "colab": {
          "base_uri": "https://localhost:8080/"
        },
        "id": "qfY92vqiMMq8",
        "outputId": "e895cf29-b28c-4fcc-81d9-19d4cb39f7bd"
      },
      "execution_count": 13,
      "outputs": [
        {
          "output_type": "stream",
          "name": "stdout",
          "text": [
            "313/313 [==============================] - 3s 8ms/step - loss: 0.0258 - accuracy: 0.9910\n",
            "Test accuracy: 0.9909999966621399\n",
            "Much better that a standard fully connected layer\n"
          ]
        }
      ]
    },
    {
      "cell_type": "code",
      "source": [
        "predictions = cnn_model.predict(test_images)\n",
        "predictions[0]"
      ],
      "metadata": {
        "colab": {
          "base_uri": "https://localhost:8080/"
        },
        "id": "EzPYGs5kSFKr",
        "outputId": "7b9a3b84-df23-440a-a88e-02538482e5ce"
      },
      "execution_count": 14,
      "outputs": [
        {
          "output_type": "stream",
          "name": "stdout",
          "text": [
            "313/313 [==============================] - 3s 10ms/step\n"
          ]
        },
        {
          "output_type": "execute_result",
          "data": {
            "text/plain": [
              "array([9.7770636e-09, 1.6958269e-08, 7.0663475e-07, 7.3957995e-07,\n",
              "       1.1380690e-07, 3.3382688e-09, 1.8929901e-12, 9.9999541e-01,\n",
              "       3.4974569e-08, 2.9474779e-06], dtype=float32)"
            ]
          },
          "metadata": {},
          "execution_count": 14
        }
      ]
    },
    {
      "cell_type": "code",
      "source": [
        "prediction = np.argmax(predictions[0])\n",
        "print(prediction)"
      ],
      "metadata": {
        "colab": {
          "base_uri": "https://localhost:8080/"
        },
        "id": "dE40XhG7SLkD",
        "outputId": "1fa41dc5-d8bd-497d-bbe7-211ea18caaf8"
      },
      "execution_count": 15,
      "outputs": [
        {
          "output_type": "stream",
          "name": "stdout",
          "text": [
            "7\n"
          ]
        }
      ]
    },
    {
      "cell_type": "code",
      "source": [
        "print(\"Label of this digit is:\", test_labels[0])\n",
        "plt.figure(figsize=(2,2))\n",
        "plt.imshow(test_images[0,:,:,0], cmap=plt.cm.binary)\n",
        "plt.show()"
      ],
      "metadata": {
        "colab": {
          "base_uri": "https://localhost:8080/",
          "height": 234
        },
        "id": "-sG5V-9sSg0c",
        "outputId": "dc3140d1-6b1c-4993-cf50-eebb15952486"
      },
      "execution_count": 16,
      "outputs": [
        {
          "output_type": "stream",
          "name": "stdout",
          "text": [
            "Label of this digit is: 7\n"
          ]
        },
        {
          "output_type": "display_data",
          "data": {
            "text/plain": [
              "<Figure size 200x200 with 1 Axes>"
            ],
            "image/png": "[encoded data removed]"
          },
          "metadata": {}
        }
      ]
    },
    {
      "cell_type": "code",
      "source": [
        "results.transpose()"
      ],
      "metadata": {
        "id": "-p1RFoMGTOAP",
        "colab": {
          "base_uri": "https://localhost:8080/",
          "height": 235
        },
        "outputId": "2bdfcb7a-6625-4630-8cf5-0d0c56a38c29"
      },
      "execution_count": 20,
      "outputs": [
        {
          "output_type": "execute_result",
          "data": {
            "text/plain": [
              "                         accuracy\n",
              "Logistic Regression          0.89\n",
              "K Nearest Neighbours     0.918333\n",
              "Support Vector Machines  0.941667\n",
              "Decision Tree            0.761667\n",
              "fully connected model       0.929\n",
              "cnn model                   0.991"
            ],
            "text/html": [
              "\n",
              "  <div id=\"df-92068ddd-95d1-4c99-bc27-1dc9d30cd668\">\n",
              "    <div class=\"colab-df-container\">\n",
              "      <div>\n",
              "<style scoped>\n",
              "    .dataframe tbody tr th:only-of-type {\n",
              "        vertical-align: middle;\n",
              "    }\n",
              "\n",
              "    .dataframe tbody tr th {\n",
              "        vertical-align: top;\n",
              "    }\n",
              "\n",
              "    .dataframe thead th {\n",
              "        text-align: right;\n",
              "    }\n",
              "</style>\n",
              "<table border=\"1\" class=\"dataframe\">\n",
              "  <thead>\n",
              "    <tr style=\"text-align: right;\">\n",
              "      <th></th>\n",
              "      <th>accuracy</th>\n",
              "    </tr>\n",
              "  </thead>\n",
              "  <tbody>\n",
              "    <tr>\n",
              "      <th>Logistic Regression</th>\n",
              "      <td>0.89</td>\n",
              "    </tr>\n",
              "    <tr>\n",
              "      <th>K Nearest Neighbours</th>\n",
              "      <td>0.918333</td>\n",
              "    </tr>\n",
              "    <tr>\n",
              "      <th>Support Vector Machines</th>\n",
              "      <td>0.941667</td>\n",
              "    </tr>\n",
              "    <tr>\n",
              "      <th>Decision Tree</th>\n",
              "      <td>0.761667</td>\n",
              "    </tr>\n",
              "    <tr>\n",
              "      <th>fully connected model</th>\n",
              "      <td>0.929</td>\n",
              "    </tr>\n",
              "    <tr>\n",
              "      <th>cnn model</th>\n",
              "      <td>0.991</td>\n",
              "    </tr>\n",
              "  </tbody>\n",
              "</table>\n",
              "</div>\n",
              "      <button class=\"colab-df-convert\" onclick=\"convertToInteractive('df-92068ddd-95d1-4c99-bc27-1dc9d30cd668')\"\n",
              "              title=\"Convert this dataframe to an interactive table.\"\n",
              "              style=\"display:none;\">\n",
              "        \n",
              "  <svg xmlns=\"http://www.w3.org/2000/svg\" height=\"24px\"viewBox=\"0 0 24 24\"\n",
              "       width=\"24px\">\n",
              "    <path d=\"M0 0h24v24H0V0z\" fill=\"none\"/>\n",
              "    <path d=\"M18.56 5.44l.94 2.06.94-2.06 2.06-.94-2.06-.94-.94-2.06-.94 2.06-2.06.94zm-11 1L8.5 8.5l.94-2.06 2.06-.94-2.06-.94L8.5 2.5l-.94 2.06-2.06.94zm10 10l.94 2.06.94-2.06 2.06-.94-2.06-.94-.94-2.06-.94 2.06-2.06.94z\"/><path d=\"M17.41 7.96l-1.37-1.37c-.4-.4-.92-.59-1.43-.59-.52 0-1.04.2-1.43.59L10.3 9.45l-7.72 7.72c-.78.78-.78 2.05 0 2.83L4 21.41c.39.39.9.59 1.41.59.51 0 1.02-.2 1.41-.59l7.78-7.78 2.81-2.81c.8-.78.8-2.07 0-2.86zM5.41 20L4 18.59l7.72-7.72 1.47 1.35L5.41 20z\"/>\n",
              "  </svg>\n",
              "      </button>\n",
              "      \n",
              "  <style>\n",
              "    .colab-df-container {\n",
              "      display:flex;\n",
              "      flex-wrap:wrap;\n",
              "      gap: 12px;\n",
              "    }\n",
              "\n",
              "    .colab-df-convert {\n",
              "      background-color: #E8F0FE;\n",
              "      border: none;\n",
              "      border-radius: 50%;\n",
              "      cursor: pointer;\n",
              "      display: none;\n",
              "      fill: #1967D2;\n",
              "      height: 32px;\n",
              "      padding: 0 0 0 0;\n",
              "      width: 32px;\n",
              "    }\n",
              "\n",
              "    .colab-df-convert:hover {\n",
              "      background-color: #E2EBFA;\n",
              "      box-shadow: 0px 1px 2px rgba(60, 64, 67, 0.3), 0px 1px 3px 1px rgba(60, 64, 67, 0.15);\n",
              "      fill: #174EA6;\n",
              "    }\n",
              "\n",
              "    [theme=dark] .colab-df-convert {\n",
              "      background-color: #3B4455;\n",
              "      fill: #D2E3FC;\n",
              "    }\n",
              "\n",
              "    [theme=dark] .colab-df-convert:hover {\n",
              "      background-color: #434B5C;\n",
              "      box-shadow: 0px 1px 3px 1px rgba(0, 0, 0, 0.15);\n",
              "      filter: drop-shadow(0px 1px 2px rgba(0, 0, 0, 0.3));\n",
              "      fill: #FFFFFF;\n",
              "    }\n",
              "  </style>\n",
              "\n",
              "      <script>\n",
              "        const buttonEl =\n",
              "          document.querySelector('#df-92068ddd-95d1-4c99-bc27-1dc9d30cd668 button.colab-df-convert');\n",
              "        buttonEl.style.display =\n",
              "          google.colab.kernel.accessAllowed ? 'block' : 'none';\n",
              "\n",
              "        async function convertToInteractive(key) {\n",
              "          const element = document.querySelector('#df-92068ddd-95d1-4c99-bc27-1dc9d30cd668');\n",
              "          const dataTable =\n",
              "            await google.colab.kernel.invokeFunction('convertToInteractive',\n",
              "                                                     [key], {});\n",
              "          if (!dataTable) return;\n",
              "\n",
              "          const docLinkHtml = 'Like what you see? Visit the ' +\n",
              "            '<a target=\"_blank\" href=https://colab.research.google.com/notebooks/data_table.ipynb>data table notebook</a>'\n",
              "            + ' to learn more about interactive tables.';\n",
              "          element.innerHTML = '';\n",
              "          dataTable['output_type'] = 'display_data';\n",
              "          await google.colab.output.renderOutput(dataTable, element);\n",
              "          const docLink = document.createElement('div');\n",
              "          docLink.innerHTML = docLinkHtml;\n",
              "          element.appendChild(docLink);\n",
              "        }\n",
              "      </script>\n",
              "    </div>\n",
              "  </div>\n",
              "  "
            ]
          },
          "metadata": {},
          "execution_count": 20
        }
      ]
    },
    {
      "cell_type": "markdown",
      "source": [
        "<h2> Unsupervised Learning </h2>\n",
        "    <ul>\n",
        "        <li> KMeans & semisupervised method\n",
        "        <li> t-SNE\n",
        "    </ul>"
      ],
      "metadata": {
        "id": "JDtX8w1xgwCM"
      }
    },
    {
      "cell_type": "code",
      "source": [],
      "metadata": {
        "id": "RIx5MRRAlRse"
      },
      "execution_count": null,
      "outputs": []
    },
    {
      "cell_type": "code",
      "source": [
        "from sklearn.cluster import KMeans\n",
        "from sklearn.manifold import TSNE\n",
        "import seaborn as sns"
      ],
      "metadata": {
        "id": "HIPD0MYphKAQ"
      },
      "execution_count": 22,
      "outputs": []
    },
    {
      "cell_type": "code",
      "source": [
        "tsne = TSNE(n_components=2, random_state=42, perplexity=40, n_iter=300 )\n",
        "(train_images, train_labels), (test_images, test_labels) = mnist.load_data()\n",
        "X = (train_images.reshape(-1,28*28)/255)[:10000]\n",
        "y = train_labels[:10000]\n",
        "X_tsne = tsne.fit_transform(X)\n",
        "df = pd.DataFrame({'tsne_x': X_tsne[:, 0], 'tsne_y': X_tsne[:, 1], 'label': y})"
      ],
      "metadata": {
        "id": "OpYw2_zaiZQq"
      },
      "execution_count": null,
      "outputs": []
    },
    {
      "cell_type": "code",
      "source": [
        "plt.figure(figsize=(8,6))\n",
        "sns.scatterplot(data=df, x='tsne_x', y='tsne_y', hue='label', palette='tab10', s=7)\n",
        "plt.title('t-SNE Visualization of MNIST Dataset')\n",
        "plt.show()"
      ],
      "metadata": {
        "id": "ht-vIoO0lF62"
      },
      "execution_count": null,
      "outputs": []
    },
    {
      "cell_type": "code",
      "source": [],
      "metadata": {
        "id": "Ihgu5a1kixRf"
      },
      "execution_count": 61,
      "outputs": []
    }
  ]
}