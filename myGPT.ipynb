{
  "nbformat": 4,
  "nbformat_minor": 0,
  "metadata": {
    "colab": {
      "provenance": [],
      "authorship_tag": "ABX9TyO308uu9GnbQxvz9HWr9gZM",
      "include_colab_link": true
    },
    "kernelspec": {
      "name": "python3",
      "display_name": "Python 3"
    },
    "language_info": {
      "name": "python"
    }
  },
  "cells": [
    {
      "cell_type": "markdown",
      "metadata": {
        "id": "view-in-github",
        "colab_type": "text"
      },
      "source": [
        "<a href=\"https://colab.research.google.com/github/CaptainJimbo/MyPortfolio/blob/main/myGPT.ipynb\" target=\"_parent\"><img src=\"https://colab.research.google.com/assets/colab-badge.svg\" alt=\"Open In Colab\"/></a>"
      ]
    },
    {
      "cell_type": "markdown",
      "source": [
        "**Based on \"Attention is all you need\" paper** [(link)](https://arxiv.org/abs/1706.03762). This simple algorithm is a Transformer-based Language Model to showcase how an LLM like ChatGPT is trained. It doens't include the pretuning and supervised finetuning."
      ],
      "metadata": {
        "id": "1iXTpB2XrboY"
      }
    },
    {
      "cell_type": "code",
      "source": [
        "import torch"
      ],
      "metadata": {
        "id": "qmYmUmRn1Cw5"
      },
      "execution_count": 1,
      "outputs": []
    },
    {
      "cell_type": "code",
      "source": [
        "# I need a \"toy\" dataset to train with.\n",
        "# (This is very small comparing to a big chunk of the internet that ChatGPT is trained on!)\n",
        "# This is a .txt file with some of Shakespeare's works.\n",
        "# The goal is to create a model that produces Shakespearean language!!\n",
        "!wget https://raw.githubusercontent.com/karpathy/char-rnn/master/data/tinyshakespeare/input.txt -O input.txt"
      ],
      "metadata": {
        "colab": {
          "base_uri": "https://localhost:8080/"
        },
        "id": "PSelmmzys3HD",
        "outputId": "91b3a9c6-91c8-4e86-bfd1-cc9da361981f"
      },
      "execution_count": 2,
      "outputs": [
        {
          "output_type": "stream",
          "name": "stdout",
          "text": [
            "--2023-07-10 12:25:22--  https://raw.githubusercontent.com/karpathy/char-rnn/master/data/tinyshakespeare/input.txt\n",
            "Resolving raw.githubusercontent.com (raw.githubusercontent.com)... 185.199.110.133, 185.199.108.133, 185.199.109.133, ...\n",
            "Connecting to raw.githubusercontent.com (raw.githubusercontent.com)|185.199.110.133|:443... connected.\n",
            "HTTP request sent, awaiting response... 200 OK\n",
            "Length: 1115394 (1.1M) [text/plain]\n",
            "Saving to: ‘input.txt’\n",
            "\n",
            "\rinput.txt             0%[                    ]       0  --.-KB/s               \rinput.txt           100%[===================>]   1.06M  --.-KB/s    in 0.05s   \n",
            "\n",
            "2023-07-10 12:25:22 (20.0 MB/s) - ‘input.txt’ saved [1115394/1115394]\n",
            "\n"
          ]
        }
      ]
    },
    {
      "cell_type": "code",
      "source": [
        "with open('input.txt', 'r', encoding='utf-8') as f:\n",
        "    text = f.read()\n",
        "print(f'length of the dataset is {len(text)}')\n",
        "print(f'\\nand here is a random part of the dataset {text[60:464]}')"
      ],
      "metadata": {
        "colab": {
          "base_uri": "https://localhost:8080/"
        },
        "id": "N8_Xn7AvuuhS",
        "outputId": "d28967ae-26c3-4640-9f41-f3495e47b4f5"
      },
      "execution_count": 3,
      "outputs": [
        {
          "output_type": "stream",
          "name": "stdout",
          "text": [
            "length of the dataset is 1115394\n",
            "\n",
            "and here is a random part of the dataset \n",
            "\n",
            "All:\n",
            "Speak, speak.\n",
            "\n",
            "First Citizen:\n",
            "You are all resolved rather to die than to famish?\n",
            "\n",
            "All:\n",
            "Resolved. resolved.\n",
            "\n",
            "First Citizen:\n",
            "First, you know Caius Marcius is chief enemy to the people.\n",
            "\n",
            "All:\n",
            "We know't, we know't.\n",
            "\n",
            "First Citizen:\n",
            "Let us kill him, and we'll have corn at our own price.\n",
            "Is't a verdict?\n",
            "\n",
            "All:\n",
            "No more talking on't; let it be done: away, away!\n",
            "\n",
            "Second Citizen:\n",
            "One word, good citizens.\n",
            "\n",
            "\n"
          ]
        }
      ]
    },
    {
      "cell_type": "code",
      "source": [
        "# The algorithm needs to understands characters. But it doesn't need the the particular characters.\n",
        "# It could be numbers i.e. indices. So I create a mapping from characters to indices.\n",
        "vocabulary = sorted(list(set(text)))\n",
        "print('here is the vocabulary, i.e. every possible character that exists in this text.',''.join(vocabulary))"
      ],
      "metadata": {
        "colab": {
          "base_uri": "https://localhost:8080/"
        },
        "id": "73xXmJxBv2Mp",
        "outputId": "ba190922-540a-48cc-f6b5-0ea2ba877d61"
      },
      "execution_count": 4,
      "outputs": [
        {
          "output_type": "stream",
          "name": "stdout",
          "text": [
            "here is the vocabulary, i.e. every possible character that exists in this text. \n",
            " !$&',-.3:;?ABCDEFGHIJKLMNOPQRSTUVWXYZabcdefghijklmnopqrstuvwxyz\n"
          ]
        }
      ]
    },
    {
      "cell_type": "code",
      "source": [
        "char_to_idx = {character:index for index, character in enumerate(vocabulary)}\n",
        "idx_to_char = {index:character for index, character in enumerate(vocabulary)}\n",
        "\n",
        "# Mappings\n",
        "def encode(text):\n",
        "  return [char_to_idx[character] for character in text]\n",
        "def decode(indices):\n",
        "  return ''.join(idx_to_char[index] for index in indices)\n",
        "\n",
        "#encode('Hello There'), decode(encode('Hello There'))"
      ],
      "metadata": {
        "id": "cvE_L2Eav3-8"
      },
      "execution_count": 5,
      "outputs": []
    },
    {
      "cell_type": "code",
      "source": [
        "data = torch.tensor(encode(text),dtype=torch.long) # This is tensor with indices representing characters.\n",
        "print('tensor shape',data.shape)\n",
        "print('tensor  type',data.dtype)\n",
        "print('tensor  rank',data.dim())"
      ],
      "metadata": {
        "colab": {
          "base_uri": "https://localhost:8080/"
        },
        "id": "bapFjCXzyclQ",
        "outputId": "4744ead8-bd6e-4968-80de-ecaf113efd9a"
      },
      "execution_count": 6,
      "outputs": [
        {
          "output_type": "stream",
          "name": "stdout",
          "text": [
            "tensor shape torch.Size([1115394])\n",
            "tensor  type torch.int64\n",
            "tensor  rank 1\n"
          ]
        }
      ]
    },
    {
      "cell_type": "code",
      "source": [
        "0.8*100344"
      ],
      "metadata": {
        "colab": {
          "base_uri": "https://localhost:8080/"
        },
        "id": "gFeOXGHSlOsy",
        "outputId": "199740f7-e44d-4dfc-9242-e3b566896fd7"
      },
      "execution_count": 7,
      "outputs": [
        {
          "output_type": "execute_result",
          "data": {
            "text/plain": [
              "80275.20000000001"
            ]
          },
          "metadata": {},
          "execution_count": 7
        }
      ]
    },
    {
      "cell_type": "code",
      "source": [
        "# We need a train set and test set\n",
        "train_data = data[:int(0.8*len(data))]\n",
        "test_data = data[int(0.8*len(data)):]"
      ],
      "metadata": {
        "id": "-Pw594md1MyV"
      },
      "execution_count": 8,
      "outputs": []
    },
    {
      "cell_type": "code",
      "source": [
        "gram_len = 5\n",
        "X = train_data[:gram_len]\n",
        "y = train_data[1:gram_len+1]\n",
        "X, y"
      ],
      "metadata": {
        "colab": {
          "base_uri": "https://localhost:8080/"
        },
        "id": "GDYZ_TkdlaYJ",
        "outputId": "58eb3a23-b2e7-41c2-922e-4acf3789f363"
      },
      "execution_count": 9,
      "outputs": [
        {
          "output_type": "execute_result",
          "data": {
            "text/plain": [
              "(tensor([18, 47, 56, 57, 58]), tensor([47, 56, 57, 58,  1]))"
            ]
          },
          "metadata": {},
          "execution_count": 9
        }
      ]
    },
    {
      "cell_type": "code",
      "source": [
        "torch.manual_seed(1337)\n",
        "BATCH_SIZE = 4\n",
        "NGRAM_LENGTH = 5\n",
        "\n",
        "def get_batch(type, batch_size=BATCH_SIZE, ngram_length=NGRAM_LENGTH):\n",
        "    data = train_data if type=='train' else test_data\n",
        "    inits = torch.randint(len(data)-ngram_length, (batch_size,))\n",
        "    X = torch.stack([data[i:i+ngram_length] for i in inits])\n",
        "    Y = torch.stack([data[i+1:i+ngram_length+1] for i in inits])\n",
        "    return X,Y\n",
        "\n",
        "X_b, Y_b = get_batch('train',10, 6)"
      ],
      "metadata": {
        "id": "jpzG6okKluPT"
      },
      "execution_count": 39,
      "outputs": []
    },
    {
      "cell_type": "code",
      "source": [
        "X_b"
      ],
      "metadata": {
        "id": "ioscgRVN0_Zb",
        "outputId": "23d181bc-2d6d-4bfe-b435-26627b0c968f",
        "colab": {
          "base_uri": "https://localhost:8080/"
        }
      },
      "execution_count": 40,
      "outputs": [
        {
          "output_type": "execute_result",
          "data": {
            "text/plain": [
              "tensor([[ 1, 40, 43,  1, 63, 53],\n",
              "        [40, 39, 50, 43,  8,  0],\n",
              "        [ 1, 61, 46, 47, 41, 46],\n",
              "        [46,  1, 58, 46, 43,  1],\n",
              "        [53,  1, 57, 46, 39, 50],\n",
              "        [63, 53, 59, 56,  1, 54],\n",
              "        [ 5, 50, 50,  1, 52, 53],\n",
              "        [ 1, 61, 47, 58, 46,  1],\n",
              "        [63, 53, 59,  1, 61, 47],\n",
              "        [43, 52, 45, 43,  8,  0]])"
            ]
          },
          "metadata": {},
          "execution_count": 40
        }
      ]
    },
    {
      "cell_type": "code",
      "source": [
        "import torch\n",
        "import torch.nn as nn\n",
        "from torch.nn import functional as F\n",
        "torch.manual_seed(1337)\n",
        "\n"
      ],
      "metadata": {
        "id": "TAF4fu-I05NY",
        "outputId": "02c3afaf-baa3-4c2f-b04d-8b990a5b1864",
        "colab": {
          "base_uri": "https://localhost:8080/"
        }
      },
      "execution_count": 30,
      "outputs": [
        {
          "output_type": "execute_result",
          "data": {
            "text/plain": [
              "Embedding(65, 65)"
            ]
          },
          "metadata": {},
          "execution_count": 30
        }
      ]
    },
    {
      "cell_type": "code",
      "source": [
        "nn.Embedding(len(vocabulary),len(vocabulary))(X_b).view(10*6,65).shape\n",
        "nn.Embedding(len(vocabulary),len(vocabulary))(Y_b).view(10*6,65).shape"
      ],
      "metadata": {
        "id": "5LoM2wJp1_8C",
        "outputId": "f503f850-6b3a-48c9-dae9-66f1c63baed3",
        "colab": {
          "base_uri": "https://localhost:8080/"
        }
      },
      "execution_count": 50,
      "outputs": [
        {
          "output_type": "execute_result",
          "data": {
            "text/plain": [
              "torch.Size([60, 65])"
            ]
          },
          "metadata": {},
          "execution_count": 50
        }
      ]
    },
    {
      "cell_type": "code",
      "source": [
        "class BigramLanguageModel(nn.Module):\n",
        "\n",
        "    def __init__(self, vocab_size):\n",
        "        super().__init__()\n",
        "        # each token directly reads off the logits for the next token from a lookup table\n",
        "        self.token_embedding_table = nn.Embedding(vocab_size, vocab_size)\n",
        "\n",
        "    def forward(self, idx, targets=None):\n",
        "\n",
        "        # idx and targets are both (B,L) tensor of integers\n",
        "        logits = self.token_embedding_table(idx) # (B,L,V)\n",
        "\n",
        "        if targets is None:\n",
        "            loss = None\n",
        "        else:\n",
        "            B, L, V = logits.shape\n",
        "            logits = logits.view(B*L, V)\n",
        "            targets = targets.view(B*L)\n",
        "            loss = F.cross_entropy(logits, targets)\n",
        "\n",
        "        return logits, loss\n",
        "\n",
        "    def generate(self, idx, max_new_tokens):\n",
        "        # idx is (B, L) array of indices in the current context\n",
        "        for _ in range(max_new_tokens):\n",
        "            # get the predictions\n",
        "            logits, loss = self(idx)\n",
        "            # focus only on the last time step\n",
        "            logits = logits[:, -1, :] # becomes (B, V)\n",
        "            # apply softmax to get probabilities\n",
        "            probs = F.softmax(logits, dim=-1) # (B, V)\n",
        "            # sample from the distribution\n",
        "            idx_next = torch.multinomial(probs, num_samples=1) # (B, 1)\n",
        "            # append sampled index to the running sequence\n",
        "            idx = torch.cat((idx, idx_next), dim=1) # (B, L+1)\n",
        "        return idx\n",
        "\n",
        "m = BigramLanguageModel(len(vocabulary))\n",
        "logits, loss = m(xb, yb)\n",
        "print(logits.shape)\n",
        "print(loss)\n",
        "\n",
        "print(decode(m.generate(idx = torch.zeros((1, 1), dtype=torch.long), max_new_tokens=100)[0].tolist()))\n"
      ],
      "metadata": {
        "id": "Mxq2gZhlp7_U",
        "outputId": "ade4d4d1-d41d-4cc1-d8a0-7129cbc3f3a8",
        "colab": {
          "base_uri": "https://localhost:8080/"
        }
      },
      "execution_count": 32,
      "outputs": [
        {
          "output_type": "stream",
          "name": "stdout",
          "text": [
            "torch.Size([10, 65])\n",
            "tensor(4.5677, grad_fn=<NllLossBackward0>)\n",
            "\n",
            "hbH\n",
            "\n",
            ":CLP.A!fq'3ggt!O!T?X!!SA?W&TrpvYybSE3w&S BXUhmiKYyTmWMPhhmnHKj!!btgnwNNULuEzRuYyiWEQxPX!$3C'MBj\n"
          ]
        }
      ]
    },
    {
      "cell_type": "code",
      "source": [],
      "metadata": {
        "id": "39O4e16mxnzb",
        "outputId": "a9b230a8-8edf-4bd2-d5ce-b3389f5690b1",
        "colab": {
          "base_uri": "https://localhost:8080/"
        }
      },
      "execution_count": 18,
      "outputs": [
        {
          "output_type": "execute_result",
          "data": {
            "text/plain": [
              "[tensor([47, 56, 57, 58,  1]),\n",
              " tensor([56, 57, 58,  1, 15]),\n",
              " tensor([57, 58,  1, 15, 47])]"
            ]
          },
          "metadata": {},
          "execution_count": 18
        }
      ]
    },
    {
      "cell_type": "code",
      "source": [],
      "metadata": {
        "id": "5ydiEX3pyIXo"
      },
      "execution_count": null,
      "outputs": []
    }
  ]
}