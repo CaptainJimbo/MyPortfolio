{
  "nbformat": 4,
  "nbformat_minor": 0,
  "metadata": {
    "colab": {
      "provenance": [],
      "authorship_tag": "ABX9TyP61OW/WbhLhmwAZNol9sMw",
      "include_colab_link": true
    },
    "kernelspec": {
      "name": "python3",
      "display_name": "Python 3"
    },
    "language_info": {
      "name": "python"
    }
  },
  "cells": [
    {
      "cell_type": "markdown",
      "metadata": {
        "id": "view-in-github",
        "colab_type": "text"
      },
      "source": [
        "<a href=\"https://colab.research.google.com/github/CaptainJimbo/MyPortfolio/blob/main/myGPT.ipynb\" target=\"_parent\"><img src=\"https://colab.research.google.com/assets/colab-badge.svg\" alt=\"Open In Colab\"/></a>"
      ]
    },
    {
      "cell_type": "markdown",
      "source": [
        "**Based on \"Attention is all you need\" paper** [(link)](https://arxiv.org/abs/1706.03762). This simple algorithm is a Transformer-based Language Model to showcase how an LLM like ChatGPT is trained. It doens't include the pretuning and supervised finetuning."
      ],
      "metadata": {
        "id": "1iXTpB2XrboY"
      }
    },
    {
      "cell_type": "code",
      "source": [
        "# There are two big open-source libraries for deep learning Tensorflow and Torch. I 'll use torch.\n",
        "import torch"
      ],
      "metadata": {
        "id": "qmYmUmRn1Cw5"
      },
      "execution_count": 1,
      "outputs": []
    },
    {
      "cell_type": "code",
      "source": [
        "# I need a \"toy\" dataset to train with.\n",
        "# (This is very small comparing to a big chunk of the internet that ChatGPT is trained on!)\n",
        "# This is a .txt file with some of Shakespeare's works.\n",
        "# The goal is to create a model that produces Shakespearean language!!\n",
        "!wget https://raw.githubusercontent.com/karpathy/char-rnn/master/data/tinyshakespeare/input.txt -O input.txt"
      ],
      "metadata": {
        "colab": {
          "base_uri": "https://localhost:8080/"
        },
        "id": "PSelmmzys3HD",
        "outputId": "462d69cb-046d-4620-b70e-dd34aa1bcc7e"
      },
      "execution_count": 2,
      "outputs": [
        {
          "output_type": "stream",
          "name": "stdout",
          "text": [
            "--2023-07-11 12:37:20--  https://raw.githubusercontent.com/karpathy/char-rnn/master/data/tinyshakespeare/input.txt\n",
            "Resolving raw.githubusercontent.com (raw.githubusercontent.com)... 185.199.108.133, 185.199.109.133, 185.199.110.133, ...\n",
            "Connecting to raw.githubusercontent.com (raw.githubusercontent.com)|185.199.108.133|:443... connected.\n",
            "HTTP request sent, awaiting response... 200 OK\n",
            "Length: 1115394 (1.1M) [text/plain]\n",
            "Saving to: ‘input.txt’\n",
            "\n",
            "\rinput.txt             0%[                    ]       0  --.-KB/s               \rinput.txt           100%[===================>]   1.06M  --.-KB/s    in 0.01s   \n",
            "\n",
            "2023-07-11 12:37:20 (95.5 MB/s) - ‘input.txt’ saved [1115394/1115394]\n",
            "\n"
          ]
        }
      ]
    },
    {
      "cell_type": "code",
      "source": [
        "with open('input.txt', 'r', encoding='utf-8') as f:\n",
        "    text = f.read()\n",
        "print(f'length of the dataset is {len(text)}')\n",
        "print(f'\\nand here is a random part of the dataset {text[60:464]}')"
      ],
      "metadata": {
        "colab": {
          "base_uri": "https://localhost:8080/"
        },
        "id": "N8_Xn7AvuuhS",
        "outputId": "4e15a6df-9411-4798-9181-c6a41a6286a6"
      },
      "execution_count": 3,
      "outputs": [
        {
          "output_type": "stream",
          "name": "stdout",
          "text": [
            "length of the dataset is 1115394\n",
            "\n",
            "and here is a random part of the dataset \n",
            "\n",
            "All:\n",
            "Speak, speak.\n",
            "\n",
            "First Citizen:\n",
            "You are all resolved rather to die than to famish?\n",
            "\n",
            "All:\n",
            "Resolved. resolved.\n",
            "\n",
            "First Citizen:\n",
            "First, you know Caius Marcius is chief enemy to the people.\n",
            "\n",
            "All:\n",
            "We know't, we know't.\n",
            "\n",
            "First Citizen:\n",
            "Let us kill him, and we'll have corn at our own price.\n",
            "Is't a verdict?\n",
            "\n",
            "All:\n",
            "No more talking on't; let it be done: away, away!\n",
            "\n",
            "Second Citizen:\n",
            "One word, good citizens.\n",
            "\n",
            "\n"
          ]
        }
      ]
    },
    {
      "cell_type": "code",
      "source": [
        "# The algorithm needs to understands characters. But it doesn't need the the particular characters.\n",
        "# It could be numbers i.e. indices. So I create a mapping from characters to indices.\n",
        "vocabulary = sorted(list(set(text)))\n",
        "print('This is the vocabulary of the text, i.e. every possible character that exists in this text.',''.join(vocabulary))"
      ],
      "metadata": {
        "colab": {
          "base_uri": "https://localhost:8080/"
        },
        "id": "73xXmJxBv2Mp",
        "outputId": "5e4c5262-66c7-4d80-831b-382f2be86734"
      },
      "execution_count": 4,
      "outputs": [
        {
          "output_type": "stream",
          "name": "stdout",
          "text": [
            "This is the vocabulary of the text, i.e. every possible character that exists in this text. \n",
            " !$&',-.3:;?ABCDEFGHIJKLMNOPQRSTUVWXYZabcdefghijklmnopqrstuvwxyz\n"
          ]
        }
      ]
    },
    {
      "cell_type": "code",
      "source": [
        "# These are the mapping from characters to indices and vice verca.\n",
        "char_to_idx = {character:index for index, character in enumerate(vocabulary)}\n",
        "idx_to_char = {index:character for index, character in enumerate(vocabulary)}\n",
        "\n",
        "# And functions for easier handling.\n",
        "def encode(text):\n",
        "  return [char_to_idx[character] for character in text]\n",
        "def decode(indices):\n",
        "  return ''.join(idx_to_char[index] for index in indices)\n",
        "\n",
        "#encode('Hello There'), decode(encode('Hello There'))"
      ],
      "metadata": {
        "id": "cvE_L2Eav3-8"
      },
      "execution_count": 5,
      "outputs": []
    },
    {
      "cell_type": "code",
      "source": [
        "data = torch.tensor(encode(text),dtype=torch.long) # This is tensor with indices representing characters.\n",
        "print('tensor shape',data.shape)\n",
        "print('tensor  type',data.dtype)\n",
        "print('tensor  rank',data.dim())"
      ],
      "metadata": {
        "colab": {
          "base_uri": "https://localhost:8080/"
        },
        "id": "bapFjCXzyclQ",
        "outputId": "8ccb5bd1-2fd8-4d7f-bccd-e81db8fcd462"
      },
      "execution_count": 6,
      "outputs": [
        {
          "output_type": "stream",
          "name": "stdout",
          "text": [
            "tensor shape torch.Size([1115394])\n",
            "tensor  type torch.int64\n",
            "tensor  rank 1\n"
          ]
        }
      ]
    },
    {
      "cell_type": "code",
      "source": [
        "# Defining a train set and a test set.\n",
        "train_data = data[:int(0.8*len(data))]\n",
        "test_data = data[int(0.8*len(data)):]"
      ],
      "metadata": {
        "id": "-Pw594md1MyV"
      },
      "execution_count": 7,
      "outputs": []
    },
    {
      "cell_type": "code",
      "source": [
        "gram_len = 5\n",
        "X = train_data[:gram_len]\n",
        "y = train_data[1:gram_len+1]\n",
        "X, y, y[-1]"
      ],
      "metadata": {
        "colab": {
          "base_uri": "https://localhost:8080/"
        },
        "id": "GDYZ_TkdlaYJ",
        "outputId": "692cba59-3dc0-4c7e-8fa9-56736d23008f"
      },
      "execution_count": 8,
      "outputs": [
        {
          "output_type": "execute_result",
          "data": {
            "text/plain": [
              "(tensor([18, 47, 56, 57, 58]), tensor([47, 56, 57, 58,  1]), tensor(1))"
            ]
          },
          "metadata": {},
          "execution_count": 8
        }
      ]
    },
    {
      "cell_type": "code",
      "source": [
        "torch.manual_seed(1337)\n",
        "BATCH_SIZE = 4\n",
        "NGRAM_LENGTH = 5\n",
        "\n",
        "def get_batch(type, batch_size=BATCH_SIZE, ngram_length=NGRAM_LENGTH):\n",
        "    data = train_data if type=='train' else test_data\n",
        "    inits = torch.randint(len(data)-ngram_length, (batch_size,))\n",
        "    X = torch.stack([data[i:i+ngram_length] for i in inits])\n",
        "    Y = torch.stack([data[i+1:i+ngram_length+1] for i in inits])\n",
        "    return X,Y\n",
        "\n",
        "X_batch, Y_batch = get_batch('train',10, 6) # Get 10 6-grams!"
      ],
      "metadata": {
        "id": "jpzG6okKluPT"
      },
      "execution_count": 9,
      "outputs": []
    },
    {
      "cell_type": "code",
      "source": [
        "import torch.nn as nn\n",
        "from torch.nn import functional as F\n",
        "torch.manual_seed(1337)"
      ],
      "metadata": {
        "colab": {
          "base_uri": "https://localhost:8080/"
        },
        "id": "TAF4fu-I05NY",
        "outputId": "cfba51fc-bee6-442e-dcd7-51ac364603e4"
      },
      "execution_count": 10,
      "outputs": [
        {
          "output_type": "execute_result",
          "data": {
            "text/plain": [
              "<torch._C.Generator at 0x7fdd1801d0d0>"
            ]
          },
          "metadata": {},
          "execution_count": 10
        }
      ]
    },
    {
      "cell_type": "code",
      "source": [],
      "metadata": {
        "id": "K7yvkLw9-Lho"
      },
      "execution_count": 10,
      "outputs": []
    },
    {
      "cell_type": "code",
      "source": [
        "# example\n",
        "B = 5\n",
        "L = 3\n",
        "V = len(vocabulary)\n",
        "\n",
        "nn.Embedding(len(vocabulary),len(vocabulary))(x_b).shape#view(B*L,V).shape\n",
        "nn.Embedding(len(vocabulary),len(vocabulary))(y_b).view(B*L,V).shape\n",
        "#nn.Embedding(len(vocabulary),len(vocabulary))(y_b[-1]).view(L*V)\n",
        "#nn.Embedding(len(vocabulary),len(vocabulary))(x_b)\n",
        "#m(x_b, y_b)\n",
        "x_b, y_b"
      ],
      "metadata": {
        "colab": {
          "base_uri": "https://localhost:8080/"
        },
        "id": "5LoM2wJp1_8C",
        "outputId": "ca6c238d-2615-46ed-ac9c-feb1c6866bae"
      },
      "execution_count": 41,
      "outputs": [
        {
          "output_type": "execute_result",
          "data": {
            "text/plain": [
              "(tensor([[53, 61, 52],\n",
              "         [46, 53, 59],\n",
              "         [ 8,  0, 14],\n",
              "         [ 6,  0, 13],\n",
              "         [ 7, 57, 46]]),\n",
              " tensor([[61, 52,  0],\n",
              "         [53, 59, 50],\n",
              "         [ 0, 14, 59],\n",
              "         [ 0, 13, 52],\n",
              "         [57, 46, 56]]))"
            ]
          },
          "metadata": {},
          "execution_count": 41
        }
      ]
    },
    {
      "cell_type": "code",
      "source": [
        "m = BigramLanguageModel(len(vocabulary))\n",
        "logits, loss = m(x_b, y_b)\n",
        "logits.shape, loss"
      ],
      "metadata": {
        "colab": {
          "base_uri": "https://localhost:8080/"
        },
        "id": "IwEyQPd1E-2f",
        "outputId": "36ac4722-ba54-47dc-d9cc-dae377a2e8e2"
      },
      "execution_count": 50,
      "outputs": [
        {
          "output_type": "execute_result",
          "data": {
            "text/plain": [
              "(torch.Size([15, 65]), tensor(4.7466, grad_fn=<NllLossBackward0>))"
            ]
          },
          "metadata": {},
          "execution_count": 50
        }
      ]
    },
    {
      "cell_type": "code",
      "source": [
        "class BigramLanguageModel(nn.Module):\n",
        "\n",
        "    def __init__(self, vocab_size):\n",
        "        super().__init__()\n",
        "        # Each token directly reads off the logits for the next token from a lookup table\n",
        "        self.token_embedding_table = nn.Embedding(vocab_size, vocab_size)\n",
        "\n",
        "    # This is automatically called\n",
        "    def forward(self, idx, targets=None):\n",
        "\n",
        "        # idx and targets are both (B,L) tensor of integers (B=batch, L=length)\n",
        "        logits = self.token_embedding_table(idx) # (B,L,V)\n",
        "\n",
        "        if targets is None:\n",
        "            loss = None\n",
        "        else:\n",
        "            B, L, V = logits.shape\n",
        "            logits = logits.view(B*L, V)\n",
        "            targets = targets.view(B*L)\n",
        "            loss = F.cross_entropy(logits, targets)\n",
        "\n",
        "        return logits, loss\n",
        "\n",
        "    def trial (self, idx):\n",
        "        return self(idx)\n",
        "\n",
        "    def generate(self, idx, max_new_tokens):\n",
        "        # idx is (B, L) array of indices in the current context\n",
        "        for _ in range(max_new_tokens):\n",
        "            # Like using .forward with idx = idx and targets = None\n",
        "            logits, loss = self(idx)\n",
        "            # Choose the last token\n",
        "            logits = logits[:, -1, :] # becomes (B, V)\n",
        "            # Softmax function to get probabilities from floats across the V dimension\n",
        "            probs = F.softmax(logits, dim=-1) # (B, V)\n",
        "            # sample from the distribution\n",
        "            idx_next = torch.multinomial(probs, num_samples=1) # (B, 1)\n",
        "            # append sampled index to the running sequence\n",
        "            idx = torch.cat((idex, idx_next), dim=1) # (B, L+1)\n",
        "        return idx\n",
        "\n",
        "model = BigramLanguageModel(len(vocabulary))\n",
        "B = 4\n",
        "L = 8\n",
        "x_b, y_b = get_batch('train',B, L) # Get 4 8grams!\n",
        "logits, loss = m(x_b, y_b)\n",
        "print(logits.shape)\n",
        "print(loss)\n",
        "\n",
        "print(decode(m.generate(idx = torch.zeros((1, 1), dtype=torch.long), max_new_tokens=100)[0].tolist()))\n"
      ],
      "metadata": {
        "id": "Mxq2gZhlp7_U",
        "colab": {
          "base_uri": "https://localhost:8080/"
        },
        "outputId": "e7e1c92c-fe9a-4ee7-fa1f-feec58df68a9"
      },
      "execution_count": 169,
      "outputs": [
        {
          "output_type": "stream",
          "name": "stdout",
          "text": [
            "torch.Size([32, 65])\n",
            "tensor(4.4766, grad_fn=<NllLossBackward0>)\n",
            "\n",
            "?s?UMhNid,$!cPeyTfuqdcMBbhpK$tONecnctvrrJjioDXFnZNA&CYWkyl$by'3L.n3EbVV?oyyaX:sGfOpXZFPanIimn'J3yAF$\n"
          ]
        }
      ]
    },
    {
      "cell_type": "code",
      "source": [
        "optimizer = torch.optim.AdamW(m.parameters(), lr=1e-3)\n",
        "batch_size = 32\n",
        "for steps in range(1000): # increase number of steps for good results...\n",
        "\n",
        "    # sample a batch of data\n",
        "    xb, yb = get_batch('train')\n",
        "\n",
        "    # evaluate the loss\n",
        "    logits, loss = m(xb, yb)\n",
        "    optimizer.zero_grad(set_to_none=True)\n",
        "    loss.backward()\n",
        "    optimizer.step()\n",
        "\n",
        "print(loss.item())\n",
        "\n",
        "print(decode(m.generate(idx = torch.zeros((1, 1), dtype=torch.long), max_new_tokens=500)[0].tolist()))"
      ],
      "metadata": {
        "colab": {
          "base_uri": "https://localhost:8080/"
        },
        "id": "wsK_qbZARfL0",
        "outputId": "28316ea5-be9f-4194-ed3c-753bb9d4b3a7"
      },
      "execution_count": 173,
      "outputs": [
        {
          "output_type": "stream",
          "name": "stdout",
          "text": [
            "3.7475006580352783\n",
            "\n",
            ";r niPNee!TPyWITlus!idPALy .-&HnKF'fooCk,-3:\n",
            "rr\n",
            "B;IzCoDJGlmmye, !gHhN,hnZ&UMAHoA-.RVe nuzHzW-l3A!\n",
            "??\n",
            "?YW&:mGncJlcWrR$BbYiJOs$'mfXelv-CH'dCo atZj$A\n",
            "fofpbe.,$.$Bld:Kt i$QlYTVmRXZQTnsGos h:\n",
            "WQ g\n",
            "t\n",
            ",PUITerZtdXlY:\n",
            "LSoHndstacucDw\n",
            "?ASZYiVeBhbWL.fVPTndigio&L'JpG.?RgZQJVsjL.uollV &CEly y rrNHJQ:sMgZzcerxPXVDc'Mdr?YBGvXkZzEtt$VJ3';Jefe bvuVlaWatOrtve:zn'HO.u!Mtf ayJQeran\n",
            "VhiBGad'Goel&giononCto:c'FnPZAL.?LVA$A:iTWcAEGydHSBldel:rW?LIP3JfpivrRnUHP.pJjBpGDTBzP;?lnd:.miCoZoH&jA:Jq.SMpeY iRSDElhaF$Bbh3wBYCK,Wrc\n"
          ]
        }
      ]
    },
    {
      "cell_type": "code",
      "source": [
        "# toy example illustrating how matrix multiplication can be used for a \"weighted aggregation\"\n",
        "torch.manual_seed(42)\n",
        "a = torch.tril(torch.ones(3, 3))\n",
        "a = a / torch.sum(a, 1, keepdim=True)\n",
        "b = torch.randint(0,10,(3,2)).float()\n",
        "c = a @ b\n",
        "print('a=')\n",
        "print(a)\n",
        "print('--')\n",
        "print('b=')\n",
        "print(b)\n",
        "print('--')\n",
        "print('c=')\n",
        "print(c)\n",
        "\n"
      ],
      "metadata": {
        "id": "YACA8VZ2VrlL",
        "outputId": "a877a64c-f1f4-48fa-f3ec-dfc10f4d0975",
        "colab": {
          "base_uri": "https://localhost:8080/"
        }
      },
      "execution_count": 176,
      "outputs": [
        {
          "output_type": "stream",
          "name": "stdout",
          "text": [
            "a=\n",
            "tensor([[1.0000, 0.0000, 0.0000],\n",
            "        [0.5000, 0.5000, 0.0000],\n",
            "        [0.3333, 0.3333, 0.3333]])\n",
            "--\n",
            "b=\n",
            "tensor([[2., 7.],\n",
            "        [6., 4.],\n",
            "        [6., 5.]])\n",
            "--\n",
            "c=\n",
            "tensor([[2.0000, 7.0000],\n",
            "        [4.0000, 5.5000],\n",
            "        [4.6667, 5.3333]])\n"
          ]
        }
      ]
    },
    {
      "cell_type": "code",
      "source": [
        "# consider the following toy example:\n",
        "\n",
        "torch.manual_seed(1337)\n",
        "B,T,C = 4,8,2 # batch, time, channels\n",
        "x = torch.randn(B,T,C)\n",
        "x.shape, x"
      ],
      "metadata": {
        "id": "SAOlG5-mWzpL",
        "outputId": "003db938-53af-4594-d0b7-1601f3671af3",
        "colab": {
          "base_uri": "https://localhost:8080/"
        }
      },
      "execution_count": 177,
      "outputs": [
        {
          "output_type": "execute_result",
          "data": {
            "text/plain": [
              "(torch.Size([4, 8, 2]),\n",
              " tensor([[[ 0.1808, -0.0700],\n",
              "          [-0.3596, -0.9152],\n",
              "          [ 0.6258,  0.0255],\n",
              "          [ 0.9545,  0.0643],\n",
              "          [ 0.3612,  1.1679],\n",
              "          [-1.3499, -0.5102],\n",
              "          [ 0.2360, -0.2398],\n",
              "          [-0.9211,  1.5433]],\n",
              " \n",
              "         [[ 1.3488, -0.1396],\n",
              "          [ 0.2858,  0.9651],\n",
              "          [-2.0371,  0.4931],\n",
              "          [ 1.4870,  0.5910],\n",
              "          [ 0.1260, -1.5627],\n",
              "          [-1.1601, -0.3348],\n",
              "          [ 0.4478, -0.8016],\n",
              "          [ 1.5236,  2.5086]],\n",
              " \n",
              "         [[-0.6631, -0.2513],\n",
              "          [ 1.0101,  0.1215],\n",
              "          [ 0.1584,  1.1340],\n",
              "          [-1.1539, -0.2984],\n",
              "          [-0.5075, -0.9239],\n",
              "          [ 0.5467, -1.4948],\n",
              "          [-1.2057,  0.5718],\n",
              "          [-0.5974, -0.6937]],\n",
              " \n",
              "         [[ 1.6455, -0.8030],\n",
              "          [ 1.3514, -0.2759],\n",
              "          [-1.5108,  2.1048],\n",
              "          [ 2.7630, -1.7465],\n",
              "          [ 1.4516, -1.5103],\n",
              "          [ 0.8212, -0.2115],\n",
              "          [ 0.7789,  1.5333],\n",
              "          [ 1.6097, -0.4032]]]))"
            ]
          },
          "metadata": {},
          "execution_count": 177
        }
      ]
    },
    {
      "cell_type": "code",
      "source": [],
      "metadata": {
        "id": "jCyt0TeRWvtD"
      },
      "execution_count": null,
      "outputs": []
    }
  ]
}