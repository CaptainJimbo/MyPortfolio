{
  "nbformat": 4,
  "nbformat_minor": 0,
  "metadata": {
    "colab": {
      "provenance": [],
      "authorship_tag": "ABX9TyPi7xg9ODRgdBjmU+EGwV9a",
      "include_colab_link": true
    },
    "kernelspec": {
      "name": "python3",
      "display_name": "Python 3"
    },
    "language_info": {
      "name": "python"
    }
  },
  "cells": [
    {
      "cell_type": "markdown",
      "metadata": {
        "id": "view-in-github",
        "colab_type": "text"
      },
      "source": [
        "<a href=\"https://colab.research.google.com/github/CaptainJimbo/MyPortfolio/blob/main/%CE%91%CE%BD%CF%84%CE%AF%CE%B3%CF%81%CE%B1%CF%86%CE%BF_myGPT.ipynb\" target=\"_parent\"><img src=\"https://colab.research.google.com/assets/colab-badge.svg\" alt=\"Open In Colab\"/></a>"
      ]
    },
    {
      "cell_type": "markdown",
      "source": [
        "**Based on \"Attention is all you need\" paper** [(link)](https://arxiv.org/abs/1706.03762). This simple algorithm is a Transformer-based Language Model to showcase how an LLM like ChatGPT is trained. It doens't include the pretuning and supervised finetuning."
      ],
      "metadata": {
        "id": "1iXTpB2XrboY"
      }
    },
    {
      "cell_type": "code",
      "source": [
        "# There are two big open-source libraries for deep learning Tensorflow and Torch. I 'll use torch.\n",
        "import torch"
      ],
      "metadata": {
        "id": "qmYmUmRn1Cw5"
      },
      "execution_count": null,
      "outputs": []
    },
    {
      "cell_type": "code",
      "source": [
        "# I need a \"toy\" dataset to train with.\n",
        "# (This is very small comparing to a big chunk of the internet that ChatGPT is trained on!)\n",
        "# This is a .txt file with some of Shakespeare's works.\n",
        "# The goal is to create a model that produces Shakespearean language!!\n",
        "!wget https://raw.githubusercontent.com/karpathy/char-rnn/master/data/tinyshakespeare/input.txt -O input.txt"
      ],
      "metadata": {
        "colab": {
          "base_uri": "https://localhost:8080/"
        },
        "id": "PSelmmzys3HD",
        "outputId": "462d69cb-046d-4620-b70e-dd34aa1bcc7e"
      },
      "execution_count": null,
      "outputs": [
        {
          "output_type": "stream",
          "name": "stdout",
          "text": [
            "--2023-07-11 12:37:20--  https://raw.githubusercontent.com/karpathy/char-rnn/master/data/tinyshakespeare/input.txt\n",
            "Resolving raw.githubusercontent.com (raw.githubusercontent.com)... 185.199.108.133, 185.199.109.133, 185.199.110.133, ...\n",
            "Connecting to raw.githubusercontent.com (raw.githubusercontent.com)|185.199.108.133|:443... connected.\n",
            "HTTP request sent, awaiting response... 200 OK\n",
            "Length: 1115394 (1.1M) [text/plain]\n",
            "Saving to: ‘input.txt’\n",
            "\n",
            "\rinput.txt             0%[                    ]       0  --.-KB/s               \rinput.txt           100%[===================>]   1.06M  --.-KB/s    in 0.01s   \n",
            "\n",
            "2023-07-11 12:37:20 (95.5 MB/s) - ‘input.txt’ saved [1115394/1115394]\n",
            "\n"
          ]
        }
      ]
    },
    {
      "cell_type": "code",
      "source": [
        "with open('input.txt', 'r', encoding='utf-8') as f:\n",
        "    text = f.read()\n",
        "print(f'length of the dataset is {len(text)}')\n",
        "print(f'\\nand here is a random part of the dataset {text[60:464]}')"
      ],
      "metadata": {
        "colab": {
          "base_uri": "https://localhost:8080/"
        },
        "id": "N8_Xn7AvuuhS",
        "outputId": "4e15a6df-9411-4798-9181-c6a41a6286a6"
      },
      "execution_count": null,
      "outputs": [
        {
          "output_type": "stream",
          "name": "stdout",
          "text": [
            "length of the dataset is 1115394\n",
            "\n",
            "and here is a random part of the dataset \n",
            "\n",
            "All:\n",
            "Speak, speak.\n",
            "\n",
            "First Citizen:\n",
            "You are all resolved rather to die than to famish?\n",
            "\n",
            "All:\n",
            "Resolved. resolved.\n",
            "\n",
            "First Citizen:\n",
            "First, you know Caius Marcius is chief enemy to the people.\n",
            "\n",
            "All:\n",
            "We know't, we know't.\n",
            "\n",
            "First Citizen:\n",
            "Let us kill him, and we'll have corn at our own price.\n",
            "Is't a verdict?\n",
            "\n",
            "All:\n",
            "No more talking on't; let it be done: away, away!\n",
            "\n",
            "Second Citizen:\n",
            "One word, good citizens.\n",
            "\n",
            "\n"
          ]
        }
      ]
    },
    {
      "cell_type": "code",
      "source": [
        "# The algorithm needs to understands characters. But it doesn't need the the particular characters.\n",
        "# It could be numbers i.e. indices. So I create a mapping from characters to indices.\n",
        "vocabulary = sorted(list(set(text)))\n",
        "print('This is the vocabulary of the text, i.e. every possible character that exists in this text.',''.join(vocabulary))"
      ],
      "metadata": {
        "colab": {
          "base_uri": "https://localhost:8080/"
        },
        "id": "73xXmJxBv2Mp",
        "outputId": "5e4c5262-66c7-4d80-831b-382f2be86734"
      },
      "execution_count": null,
      "outputs": [
        {
          "output_type": "stream",
          "name": "stdout",
          "text": [
            "This is the vocabulary of the text, i.e. every possible character that exists in this text. \n",
            " !$&',-.3:;?ABCDEFGHIJKLMNOPQRSTUVWXYZabcdefghijklmnopqrstuvwxyz\n"
          ]
        }
      ]
    },
    {
      "cell_type": "code",
      "source": [
        "# These are the mapping from characters to indices and vice verca.\n",
        "char_to_idx = {character:index for index, character in enumerate(vocabulary)}\n",
        "idx_to_char = {index:character for index, character in enumerate(vocabulary)}\n",
        "\n",
        "# And functions for easier handling.\n",
        "def encode(text):\n",
        "  return [char_to_idx[character] for character in text]\n",
        "def decode(indices):\n",
        "  return ''.join(idx_to_char[index] for index in indices)\n",
        "\n",
        "#encode('Hello There'), decode(encode('Hello There'))"
      ],
      "metadata": {
        "id": "cvE_L2Eav3-8"
      },
      "execution_count": null,
      "outputs": []
    },
    {
      "cell_type": "code",
      "source": [
        "data = torch.tensor(encode(text),dtype=torch.long) # This is tensor with indices representing characters.\n",
        "print('tensor shape',data.shape)\n",
        "print('tensor  type',data.dtype)\n",
        "print('tensor  rank',data.dim())"
      ],
      "metadata": {
        "colab": {
          "base_uri": "https://localhost:8080/"
        },
        "id": "bapFjCXzyclQ",
        "outputId": "8ccb5bd1-2fd8-4d7f-bccd-e81db8fcd462"
      },
      "execution_count": null,
      "outputs": [
        {
          "output_type": "stream",
          "name": "stdout",
          "text": [
            "tensor shape torch.Size([1115394])\n",
            "tensor  type torch.int64\n",
            "tensor  rank 1\n"
          ]
        }
      ]
    },
    {
      "cell_type": "code",
      "source": [
        "# Defining a train set and a test set.\n",
        "train_data = data[:int(0.8*len(data))]\n",
        "test_data = data[int(0.8*len(data)):]"
      ],
      "metadata": {
        "id": "-Pw594md1MyV"
      },
      "execution_count": null,
      "outputs": []
    },
    {
      "cell_type": "code",
      "source": [
        "gram_len = 5\n",
        "X = train_data[:gram_len]\n",
        "y = train_data[1:gram_len+1]\n",
        "X, y, y[-1]"
      ],
      "metadata": {
        "colab": {
          "base_uri": "https://localhost:8080/"
        },
        "id": "GDYZ_TkdlaYJ",
        "outputId": "692cba59-3dc0-4c7e-8fa9-56736d23008f"
      },
      "execution_count": null,
      "outputs": [
        {
          "output_type": "execute_result",
          "data": {
            "text/plain": [
              "(tensor([18, 47, 56, 57, 58]), tensor([47, 56, 57, 58,  1]), tensor(1))"
            ]
          },
          "metadata": {},
          "execution_count": 8
        }
      ]
    },
    {
      "cell_type": "code",
      "source": [
        "torch.manual_seed(1337)\n",
        "BATCH_SIZE = 4\n",
        "NGRAM_LENGTH = 5\n",
        "\n",
        "def get_batch(type, batch_size=BATCH_SIZE, ngram_length=NGRAM_LENGTH):\n",
        "    data = train_data if type=='train' else test_data\n",
        "    inits = torch.randint(len(data)-ngram_length, (batch_size,))\n",
        "    X = torch.stack([data[i:i+ngram_length] for i in inits])\n",
        "    Y = torch.stack([data[i+1:i+ngram_length+1] for i in inits])\n",
        "    return X,Y\n",
        "\n",
        "X_batch, Y_batch = get_batch('train',10, 6) # Get 10 6-grams!"
      ],
      "metadata": {
        "id": "jpzG6okKluPT"
      },
      "execution_count": null,
      "outputs": []
    },
    {
      "cell_type": "code",
      "source": [
        "import torch.nn as nn\n",
        "from torch.nn import functional as F\n",
        "torch.manual_seed(1337)"
      ],
      "metadata": {
        "colab": {
          "base_uri": "https://localhost:8080/"
        },
        "id": "TAF4fu-I05NY",
        "outputId": "cfba51fc-bee6-442e-dcd7-51ac364603e4"
      },
      "execution_count": null,
      "outputs": [
        {
          "output_type": "execute_result",
          "data": {
            "text/plain": [
              "<torch._C.Generator at 0x7fdd1801d0d0>"
            ]
          },
          "metadata": {},
          "execution_count": 10
        }
      ]
    },
    {
      "cell_type": "code",
      "source": [],
      "metadata": {
        "id": "K7yvkLw9-Lho"
      },
      "execution_count": null,
      "outputs": []
    },
    {
      "cell_type": "code",
      "source": [
        "# example\n",
        "B = 2\n",
        "L = 3\n",
        "V = len(vocabulary)\n",
        "x_b, y_b = get_batch('train',B, L) # Get 2 trigrams!\n",
        "nn.Embedding(len(vocabulary),len(vocabulary))(x_b).shape#view(B*L,V).shape\n",
        "nn.Embedding(len(vocabulary),len(vocabulary))(y_b).view(B*L,V).shape\n",
        "#nn.Embedding(len(vocabulary),len(vocabulary))(y_b[-1]).view(L*V)\n",
        "#nn.Embedding(len(vocabulary),len(vocabulary))(x_b)\n",
        "#m(x_b, y_b)[2]"
      ],
      "metadata": {
        "colab": {
          "base_uri": "https://localhost:8080/"
        },
        "id": "5LoM2wJp1_8C",
        "outputId": "cf5605cc-1950-45fe-9c3a-97e38a4b2aaa"
      },
      "execution_count": null,
      "outputs": [
        {
          "output_type": "execute_result",
          "data": {
            "text/plain": [
              "torch.Size([6, 65])"
            ]
          },
          "metadata": {},
          "execution_count": 13
        }
      ]
    },
    {
      "cell_type": "code",
      "source": [
        "class BigramLanguageModel(nn.Module):\n",
        "\n",
        "    def __init__(self, vocab_size):\n",
        "        super().__init__()\n",
        "        # Each token directly reads off the logits for the next token from a lookup table\n",
        "        self.token_embedding_table = nn.Embedding(vocab_size, vocab_size)\n",
        "\n",
        "    # This is automatically called\n",
        "    def forward(self, idx, targets=None):\n",
        "\n",
        "        # idx and targets are both (B,L) tensor of integers (B=batch, L=length)\n",
        "        logits = self.token_embedding_table(idx) # (B,L,V)\n",
        "\n",
        "        if targets is None:\n",
        "            loss = None\n",
        "        else:\n",
        "            B, L, V = logits.shape\n",
        "            logits = logits.view(B*L, V)\n",
        "            targets = targets.view(B*L)\n",
        "            loss = F.cross_entropy(logits, targets)\n",
        "\n",
        "        return logits, loss\n",
        "\n",
        "    def generate(self, idx, max_new_tokens):\n",
        "        # idx is (B, L) array of indices in the current context\n",
        "        for _ in range(max_new_tokens):\n",
        "            # get the predictions\n",
        "            logits, loss = self(idx)\n",
        "            # focus only on the last time step\n",
        "            logits = logits[:, -1, :] # becomes (B, V)\n",
        "            # apply softmax to get probabilities\n",
        "            probs = F.softmax(logits, dim=-1) # (B, V)\n",
        "            # sample from the distribution\n",
        "            idx_next = torch.multinomial(probs, num_samples=1) # (B, 1)\n",
        "            # append sampled index to the running sequence\n",
        "            idx = torch.cat((idx, idx_next), dim=1) # (B, L+1)\n",
        "        return idx\n",
        "\n",
        "m = BigramLanguageModel(len(vocabulary))\n",
        "logits, loss = m(x_b, y_b)\n",
        "#print(logits.shape)\n",
        "#print(loss)\n",
        "\n",
        "#print(decode(m.generate(idx = torch.zeros((1, 1), dtype=torch.long), max_new_tokens=100)[0].tolist()))\n"
      ],
      "metadata": {
        "id": "Mxq2gZhlp7_U"
      },
      "execution_count": null,
      "outputs": []
    },
    {
      "cell_type": "code",
      "source": [],
      "metadata": {
        "id": "39O4e16mxnzb"
      },
      "execution_count": null,
      "outputs": []
    },
    {
      "cell_type": "code",
      "source": [],
      "metadata": {
        "id": "5ydiEX3pyIXo"
      },
      "execution_count": null,
      "outputs": []
    }
  ]
}