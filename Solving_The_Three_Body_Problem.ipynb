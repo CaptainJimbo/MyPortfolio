{
  "cells": [
    {
      "cell_type": "markdown",
      "metadata": {
        "id": "view-in-github",
        "colab_type": "text"
      },
      "source": [
        "<a href=\"https://colab.research.google.com/github/CaptainJimbo/MyPortfolio/blob/main/Solving_The_Three_Body_Problem.ipynb\" target=\"_parent\"><img src=\"https://colab.research.google.com/assets/colab-badge.svg\" alt=\"Open In Colab\"/></a>"
      ]
    },
    {
      "cell_type": "markdown",
      "source": [
        "<table align=\"left\">\n",
        "  <td align=\"left\">\n",
        "  <a target=\"_blank\" href=\"https://dimitriskogias.wixsite.com/spacecowboy\" style=\"text-decoration: none; display: flex; align-items: center; color: white; background-color: purple; padding: 10px; border-radius: 5px;\">\n",
        "      <img src=\"https://static.wikia.nocookie.net/bravestarr/images/6/6d/Lucas_Conway.png/revision/latest?cb=20211111224054\" width=\"40px\" height=\"40px\" style=\"border-radius: 50%; margin-right: 10px;\" />\n",
        "      <span>Visit my Webpage</span>\n",
        "    </a>\n",
        "  </td>\n",
        "</table>\n",
        "\n"
      ],
      "metadata": {
        "id": "X0VQQJ0jfGbM"
      }
    },
    {
      "cell_type": "markdown",
      "source": [
        "<table align=\"left\">\n",
        "  <td align=\"left\"><a target=\"_blank\" href=\"https://github.com/CaptainJimbo/MyPortfolio/blob/main/Solving_The_Three_Body_Problem.ipynb\" style=\"text-decoration: none; display: flex; align-items: center; color: black; background-color: lightgray; padding: 10px; border-radius: 5px;\">\n",
        "        <img src=\"https://i.ibb.co/xfJbPmL/github.png\"  width=\"40px\" height=\"40px\" style=\"border-radius: 50%; margin-right: 10px;\"   />View it on GitHub</a></td>\n",
        "</table>\n"
      ],
      "metadata": {
        "id": "yqm5SEetfX3b"
      }
    },
    {
      "cell_type": "code",
      "execution_count": 1,
      "metadata": {
        "id": "rk50QdI0e_3S"
      },
      "outputs": [],
      "source": [
        "# Load libraries\n",
        "import numpy as np\n",
        "import tensorflow as tf\n",
        "from tensorflow import keras\n",
        "import matplotlib.pyplot as plt\n",
        "import time\n"
      ]
    },
    {
      "cell_type": "code",
      "execution_count": null,
      "metadata": {
        "id": "mmUNS2k8e_3V"
      },
      "outputs": [],
      "source": [
        "# functions\n",
        "\n",
        "def get_data(idx):\n",
        "    x = np. array([data[idx,:,0],data[idx,:,3],data[idx,:,4]]).T   #t,x2,y2 shape=(time steps,3)\n",
        "    y = np.array([data[idx,:,1],data[idx,:,2],data[idx,:,3],data[idx,:,4]]).T  #x1,y1,x2,y2 shape=(time steps,4)\n",
        "    return x,y\n",
        "\n",
        "def get_training_data(idx):\n",
        "    data = training_data\n",
        "    x = np. array([data[idx,:,0],data[idx,:,3],data[idx,:,4]]).T   #t,x2,y2 shape=(time steps,3)\n",
        "    y = np.array([data[idx,:,1],data[idx,:,2],data[idx,:,3],data[idx,:,4]]).T  #x1,y1,x2,y2 shape=(time steps,4)\n",
        "    return x,y\n",
        "\n",
        "def get_trajectories(pred):\n",
        "    # pred = x1,y1,x2,y2\n",
        "    p1 = np. array([pred[:,0],pred[:,1]]).T\n",
        "    p2 = np. array([pred[:,2],pred[:,3]]).T\n",
        "    p3 = -p1 -p2  # x1 + x2 + x3 = 0 , y1 + y2 + y3 = 0\n",
        "    return p1,p2,p3\n",
        "\n",
        "def plot_trajectories(p1, p2, p3, ax=None, style = '-', leg = None, **kwargs):\n",
        "    plt.plot(p1[:,0],p1[:,1],'r',linestyle = style , label = leg)\n",
        "    plt.plot(p1[0,0],p1[0,1],'ro')\n",
        "    plt.plot(p2[:,0],p2[:,1],'b',linestyle = style , label = leg)\n",
        "    plt.plot(p2[0,0],p2[0,1],'bo')\n",
        "    plt.plot(p3[:,0],p3[:,1],'g',linestyle = style , label = leg)\n",
        "    plt.plot(p3[0,0],p3[0,1],'go') # bullets for initial conditions\n",
        "\n",
        "    plt.legend(loc='best',fontsize='small');\n",
        "    #return NotImplementedError #wtfisthis\n",
        "\n",
        "def special_input(data,idx):\n",
        "    t = data[idx,:,0]\n",
        "    x2 = data[idx,:,3]*0 + data[idx,:,3][0] # 1000 element columns with the same initial position)\n",
        "    y2 = data[idx,:,4]*0 + data[idx,:,4][0] # from get data function[0]= t,x2,y2\n",
        "    return np.array([t,x2,y2]).T\n"
      ]
    },
    {
      "cell_type": "code",
      "execution_count": null,
      "metadata": {
        "scrolled": true,
        "id": "YsB3Rl93e_3X",
        "outputId": "d0d9f5f7-9da1-4dd1-da25-b9efad11f8b8"
      },
      "outputs": [
        {
          "name": "stdout",
          "output_type": "stream",
          "text": [
            "data.shape=(9000, 1000, 9)\n",
            "this guy has 9000 samples of 9 columns of (t,x1,y1,x2,y2,ux1,uy1,ux2,uy2) and each one has 1000 elements\n"
          ]
        }
      ],
      "source": [
        "# Load and unpack a compressed npy array\n",
        "load_data = np.load('data_project2.npz')\n",
        "data = load_data['arr_0']\n",
        "print(f'data.shape={data.shape}')\n",
        "print(f'this guy has {data.shape[0]} samples of {data.shape[2]} columns of (t,x1,y1,x2,y2,ux1,uy1,ux2,uy2) and each one has {data.shape[1]} elements')"
      ]
    },
    {
      "cell_type": "code",
      "execution_count": null,
      "metadata": {
        "id": "cxMagHaYe_3Z"
      },
      "outputs": [],
      "source": [
        "# lets load the pre trained model and predict some trajectories\n",
        "pre_trained_model = keras.models.load_model(\"Breen_NN_project2.h5\")"
      ]
    },
    {
      "cell_type": "code",
      "execution_count": null,
      "metadata": {
        "scrolled": false,
        "id": "9ms7vjGNe_3a",
        "outputId": "6faaddc6-b2c6-4ee4-d82e-3294feb774a4"
      },
      "outputs": [
        {
          "name": "stdout",
          "output_type": "stream",
          "text": [
            "The training sample is the 90.0% of data and has size 8100.\n",
            " \n",
            "\n",
            " - The shape of the unshaped input training sample is (8100, 1000, 3), that is 8100 samples of 1000 snapshots of (t , x2(t)=x2_0 , y2(t)=y2_0). In order to have a valid training input we stack all samples by column and that changes the input training sample shape to (8100000, 3).\n",
            "\n",
            " - The shape of the unshaped output training sample is (8100, 1000, 4). In order to have a valid training output we stack all samples by column and that changes the output training sample shape to (8100000, 4).\n",
            "\n",
            "\n",
            "\n",
            "The validation sample is the 10.0% of data and has size  900.\n",
            " \n",
            "\n",
            " - The shape of the unshaped input validation sample is (900, 1000, 3), that is 900 samples of 1000 snapshots of (t , x2(t)=x2_0 , y2(t)=y2_0). In order to have a valid validation input we stack all samples by column and that changes the input validation sample shape to (900000, 3).\n",
            "\n",
            " - The shape of the unshaped output validation sample is (900, 1000, 4). In order to have a valid validation output we stack all samples by column and that changes the output validation sample shape to (900000, 4).\n"
          ]
        }
      ],
      "source": [
        "from sklearn.model_selection import train_test_split\n",
        "\n",
        "#sample splitting\n",
        "train_percentage = 0.9\n",
        "training_data, validation_data = train_test_split(data ,train_size=train_percentage)\n",
        "size = len(training_data)\n",
        "input_data_unshaped = np.zeros(((size,1000,3)))# still (t,x2,y2)\n",
        "\n",
        "# this special_input  fucntion that changes x2,y2 snapshots to x2_0,y2_0 everywhere\n",
        "for idx in range(size):\n",
        "    input_data_unshaped [idx] = special_input(training_data,idx)\n",
        "\n",
        "# input data reshaping\n",
        "train_input_data = input_data_unshaped.reshape(-1,3)\n",
        "print(f'The training sample is the {train_percentage*100}% of data and has size {size}.\\n \\\n",
        "\\n\\n - The shape of the unshaped input training sample is {input_data_unshaped.shape}, that is {size} samples of \\\n",
        "1000 snapshots of (t , x2(t)=x2_0 , y2(t)=y2_0). In order to have a valid training input we stack all samples \\\n",
        "by column and that changes the input training sample shape to {train_input_data.shape}.')\n",
        "\n",
        "output_data_unshaped = training_data[:,:,:5][:,:,1:]\n",
        "train_output_data = output_data_unshaped.reshape(-1,4)\n",
        "print (f'\\n - The shape of the unshaped output training sample is {output_data_unshaped.shape}. In order to have a\\\n",
        " valid training output we stack all samples by column and that changes the output training sample \\\n",
        "shape to {train_output_data.shape}.')\n",
        "\n",
        "\n",
        "\n",
        "val_percentage = 0.1\n",
        "size = len(validation_data)\n",
        "input_data_unshaped = np.zeros(((size,1000,3)))# still (t,x2,y2)\n",
        "\n",
        "# this special_input  fucntion that changes x2,y2 snapshots to x2_0,y2_0 everywhere\n",
        "for idx in range(size):\n",
        "    input_data_unshaped [idx] = special_input(validation_data,idx)\n",
        "\n",
        "# input data reshaping\n",
        "val_input_data = input_data_unshaped.reshape(-1,3)\n",
        "print(f'\\n\\n\\nThe validation sample is the {val_percentage*100}% of data and has size  {size}.\\n \\\n",
        "\\n\\n - The shape of the unshaped input validation sample is {input_data_unshaped.shape}, that is {size} samples of \\\n",
        "1000 snapshots of (t , x2(t)=x2_0 , y2(t)=y2_0). In order to have a valid validation input we stack all samples \\\n",
        "by column and that changes the input validation sample shape to {val_input_data.shape}.')\n",
        "\n",
        "output_data_unshaped = validation_data[:,:,:5][:,:,1:]\n",
        "val_output_data = output_data_unshaped.reshape(-1,4)\n",
        "print (f'\\n - The shape of the unshaped output validation sample is {output_data_unshaped.shape}. In order to have a\\\n",
        " valid validation output we stack all samples by column and that changes the output validation sample \\\n",
        "shape to {val_output_data.shape}.')\n",
        "\n",
        "\n",
        "\n",
        "\n"
      ]
    },
    {
      "cell_type": "code",
      "execution_count": null,
      "metadata": {
        "scrolled": true,
        "id": "NeZ-GuY1e_3c",
        "outputId": "a8c95733-88d6-469c-e90a-9cb1685c757d"
      },
      "outputs": [
        {
          "name": "stdout",
          "output_type": "stream",
          "text": [
            " Recap: \n",
            "\n",
            " train_input_data.shape = (8100000, 3)\n",
            " train_output_data.shape = (8100000, 4) \n",
            " val_input_data.shape = (900000, 3)\n",
            " val_output_data.shape = (900000, 4) \n"
          ]
        }
      ],
      "source": [
        "print(f' Recap: \\n')\n",
        "print(f' train_input_data.shape = {train_input_data.shape}\\n train_output_data.shape = {train_output_data.shape} \\n \\\n",
        "val_input_data.shape = {val_input_data.shape}\\n val_output_data.shape = {val_output_data.shape} ')"
      ]
    },
    {
      "cell_type": "code",
      "execution_count": null,
      "metadata": {
        "id": "ofsdYnn2e_3d"
      },
      "outputs": [],
      "source": [
        "# creating the data_sets\n",
        "\n",
        "# my inputs/outputs have dimensions (8100000,3)/(8100000,4)\n",
        "training_dataset = tf.data.Dataset.from_tensor_slices((train_input_data,train_output_data))\n",
        "\n",
        "# my inputs/outputs have dimensions (900000,3)/(900000,4)\n",
        "validation_dataset =  tf.data.Dataset.from_tensor_slices((val_input_data,val_output_data))\n",
        "\n",
        "# batches of 5 samples (5*1000)\n",
        "training_dataset = training_dataset.batch(5000)\n",
        "validation_dataset = validation_dataset.batch(5000)"
      ]
    },
    {
      "cell_type": "code",
      "execution_count": null,
      "metadata": {
        "id": "gxTpSpxYe_3e",
        "outputId": "739fe3d3-7160-45bb-8273-b91d878913a6"
      },
      "outputs": [
        {
          "name": "stdout",
          "output_type": "stream",
          "text": [
            "Model: \"sequential\"\n",
            "_________________________________________________________________\n",
            "Layer (type)                 Output Shape              Param #   \n",
            "=================================================================\n",
            "dense (Dense)                (None, 128)               512       \n",
            "_________________________________________________________________\n",
            "dense_1 (Dense)              (None, 128)               16512     \n",
            "_________________________________________________________________\n",
            "dense_2 (Dense)              (None, 128)               16512     \n",
            "_________________________________________________________________\n",
            "dense_3 (Dense)              (None, 128)               16512     \n",
            "_________________________________________________________________\n",
            "dense_4 (Dense)              (None, 128)               16512     \n",
            "_________________________________________________________________\n",
            "dense_5 (Dense)              (None, 128)               16512     \n",
            "_________________________________________________________________\n",
            "dense_6 (Dense)              (None, 128)               16512     \n",
            "_________________________________________________________________\n",
            "dense_7 (Dense)              (None, 128)               16512     \n",
            "_________________________________________________________________\n",
            "dense_8 (Dense)              (None, 128)               16512     \n",
            "_________________________________________________________________\n",
            "dense_9 (Dense)              (None, 128)               16512     \n",
            "_________________________________________________________________\n",
            "dense_10 (Dense)             (None, 4)                 516       \n",
            "=================================================================\n",
            "Total params: 149,636\n",
            "Trainable params: 149,636\n",
            "Non-trainable params: 0\n",
            "_________________________________________________________________\n"
          ]
        }
      ],
      "source": [
        "# my Neural Network\n",
        "myNN = tf.keras.models.Sequential([\n",
        "    tf.keras.layers.InputLayer(input_shape=(3)),  #input\n",
        "    tf.keras.layers.Dense(128, activation='relu'), #1\n",
        "    tf.keras.layers.Dense(128, activation='relu'), #2\n",
        "    tf.keras.layers.Dense(128, activation='relu'), #3\n",
        "    tf.keras.layers.Dense(128, activation='relu'), #4\n",
        "    tf.keras.layers.Dense(128, activation='relu'), #5\n",
        "    tf.keras.layers.Dense(128, activation='relu'), #6\n",
        "    tf.keras.layers.Dense(128, activation='relu'), #7\n",
        "    tf.keras.layers.Dense(128, activation='relu'), #8\n",
        "    tf.keras.layers.Dense(128, activation='relu'), #9\n",
        "    tf.keras.layers.Dense(128, activation='relu'), #10\n",
        "    tf.keras.layers.Dense(4)                      #output\n",
        "])\n",
        "\n",
        "# summary\n",
        "myNN.summary()\n",
        "\n",
        "# compiler\n",
        "myNN.compile(optimizer=keras.optimizers.Adam(0.001, 0.5, 0.5)\n",
        "              ,loss=keras.losses.MeanAbsoluteError(),\n",
        "              metrics=['mse'])\n",
        "\n"
      ]
    },
    {
      "cell_type": "code",
      "execution_count": null,
      "metadata": {
        "scrolled": false,
        "id": "1PyJZ6xie_3g",
        "outputId": "4f1035d2-11e6-4d17-8376-068eb1961cac"
      },
      "outputs": [
        {
          "name": "stdout",
          "output_type": "stream",
          "text": [
            "WARNING:tensorflow:From <ipython-input-9-7c2dfbfdf915>:4: Model.fit_generator (from tensorflow.python.keras.engine.training) is deprecated and will be removed in a future version.\n",
            "Instructions for updating:\n",
            "Please use Model.fit, which supports generators.\n",
            "Epoch 1/100\n",
            "1620/1620 [==============================] - 136s 84ms/step - loss: 0.2104 - mse: 0.1640 - val_loss: 0.1605 - val_mse: 0.1255\n",
            "Epoch 2/100\n",
            "1620/1620 [==============================] - 129s 80ms/step - loss: 0.1586 - mse: 0.1207 - val_loss: 0.1406 - val_mse: 0.1118\n",
            "Epoch 3/100\n",
            "1620/1620 [==============================] - 127s 79ms/step - loss: 0.1419 - mse: 0.1064 - val_loss: 0.1295 - val_mse: 0.0966\n",
            "Epoch 4/100\n",
            "1620/1620 [==============================] - 124s 76ms/step - loss: 0.1319 - mse: 0.1003 - val_loss: 0.1289 - val_mse: 0.1151\n",
            "Epoch 5/100\n",
            "1620/1620 [==============================] - 126s 78ms/step - loss: 0.1265 - mse: 0.0951 - val_loss: 0.1235 - val_mse: 0.1001\n",
            "Epoch 6/100\n",
            "1620/1620 [==============================] - 127s 78ms/step - loss: 0.1203 - mse: 0.0918 - val_loss: 0.1234 - val_mse: 0.0917\n",
            "Epoch 7/100\n",
            "1620/1620 [==============================] - 126s 78ms/step - loss: 0.1152 - mse: 0.0866 - val_loss: 0.1092 - val_mse: 0.0828\n",
            "Epoch 8/100\n",
            "1620/1620 [==============================] - 126s 78ms/step - loss: 0.1131 - mse: 0.0856 - val_loss: 0.0962 - val_mse: 0.0730\n",
            "Epoch 9/100\n",
            "1620/1620 [==============================] - 126s 78ms/step - loss: 0.1085 - mse: 0.0806 - val_loss: 0.0984 - val_mse: 0.0697\n",
            "Epoch 10/100\n",
            "1620/1620 [==============================] - 127s 78ms/step - loss: 0.1052 - mse: 0.0802 - val_loss: 0.0947 - val_mse: 0.0700\n",
            "Epoch 11/100\n",
            "1620/1620 [==============================] - 126s 78ms/step - loss: 0.1030 - mse: 0.0765 - val_loss: 0.0884 - val_mse: 0.0587\n",
            "Epoch 12/100\n",
            "1620/1620 [==============================] - 135s 83ms/step - loss: 0.1016 - mse: 0.0774 - val_loss: 0.0880 - val_mse: 0.0611\n",
            "Epoch 13/100\n",
            "1620/1620 [==============================] - 150s 93ms/step - loss: 0.0994 - mse: 0.0756 - val_loss: 0.0937 - val_mse: 0.0630\n",
            "Epoch 14/100\n",
            "1620/1620 [==============================] - 134s 83ms/step - loss: 0.0980 - mse: 0.0733 - val_loss: 0.0851 - val_mse: 0.0586\n",
            "Epoch 15/100\n",
            "1620/1620 [==============================] - 143s 88ms/step - loss: 0.0972 - mse: 0.0722 - val_loss: 0.0927 - val_mse: 0.0701\n",
            "Epoch 16/100\n",
            "1620/1620 [==============================] - 145s 90ms/step - loss: 0.0969 - mse: 0.0723 - val_loss: 0.0838 - val_mse: 0.0584\n",
            "Epoch 17/100\n",
            "1620/1620 [==============================] - 152s 94ms/step - loss: 0.0958 - mse: 0.0715 - val_loss: 0.1006 - val_mse: 0.0679\n",
            "Epoch 18/100\n",
            "1620/1620 [==============================] - 129s 80ms/step - loss: 0.0950 - mse: 0.0703 - val_loss: 0.0901 - val_mse: 0.0674\n",
            "Epoch 19/100\n",
            "1620/1620 [==============================] - 141s 87ms/step - loss: 0.0945 - mse: 0.0696 - val_loss: 0.0911 - val_mse: 0.0681\n",
            "Epoch 20/100\n",
            "1620/1620 [==============================] - 142s 87ms/step - loss: 0.0931 - mse: 0.0666 - val_loss: 0.0825 - val_mse: 0.0551\n",
            "Epoch 21/100\n",
            "1620/1620 [==============================] - 126s 78ms/step - loss: 0.0938 - mse: 0.0694 - val_loss: 0.0927 - val_mse: 0.0609\n",
            "Epoch 22/100\n",
            "1620/1620 [==============================] - 140s 87ms/step - loss: 0.0914 - mse: 0.0669 - val_loss: 0.0981 - val_mse: 0.0771\n",
            "Epoch 23/100\n",
            "1620/1620 [==============================] - 147s 91ms/step - loss: 0.0899 - mse: 0.0663 - val_loss: 0.0847 - val_mse: 0.0607\n",
            "Epoch 24/100\n",
            "1620/1620 [==============================] - 139s 86ms/step - loss: 0.0896 - mse: 0.0678 - val_loss: 0.0908 - val_mse: 0.0659\n",
            "Epoch 25/100\n",
            "1620/1620 [==============================] - 138s 85ms/step - loss: 0.0889 - mse: 0.0661 - val_loss: 0.0803 - val_mse: 0.0614\n",
            "Epoch 26/100\n",
            "1620/1620 [==============================] - 137s 84ms/step - loss: 0.0889 - mse: 0.0658 - val_loss: 0.0792 - val_mse: 0.0552\n",
            "Epoch 27/100\n",
            "1620/1620 [==============================] - 137s 85ms/step - loss: 0.0876 - mse: 0.0647 - val_loss: 0.0884 - val_mse: 0.0700\n",
            "Epoch 28/100\n",
            "1620/1620 [==============================] - 127s 78ms/step - loss: 0.0884 - mse: 0.0636 - val_loss: 0.0899 - val_mse: 0.0752\n",
            "Epoch 29/100\n",
            "1620/1620 [==============================] - 129s 80ms/step - loss: 0.0879 - mse: 0.0658 - val_loss: 0.0878 - val_mse: 0.0570\n",
            "Epoch 30/100\n",
            "1620/1620 [==============================] - 136s 84ms/step - loss: 0.0849 - mse: 0.0630 - val_loss: 0.0981 - val_mse: 0.0807\n",
            "Epoch 31/100\n",
            "1620/1620 [==============================] - 134s 83ms/step - loss: 0.0850 - mse: 0.0620 - val_loss: 0.0968 - val_mse: 0.0740\n",
            "Epoch 32/100\n",
            "1620/1620 [==============================] - 142s 88ms/step - loss: 0.0852 - mse: 0.0639 - val_loss: 0.0906 - val_mse: 0.0749\n",
            "Epoch 33/100\n",
            "1620/1620 [==============================] - 128s 79ms/step - loss: 0.0832 - mse: 0.0619 - val_loss: 0.0794 - val_mse: 0.0542\n",
            "Epoch 34/100\n",
            "1620/1620 [==============================] - 127s 79ms/step - loss: 0.0822 - mse: 0.0608 - val_loss: 0.0873 - val_mse: 0.0667\n",
            "Epoch 35/100\n",
            "1620/1620 [==============================] - 129s 79ms/step - loss: 0.0829 - mse: 0.0619 - val_loss: 0.0803 - val_mse: 0.0584\n",
            "Epoch 36/100\n",
            "1620/1620 [==============================] - 130s 80ms/step - loss: 0.0810 - mse: 0.0594 - val_loss: 0.0868 - val_mse: 0.0662\n",
            "Epoch 37/100\n",
            "1620/1620 [==============================] - 133s 82ms/step - loss: 0.0799 - mse: 0.0605 - val_loss: 0.0689 - val_mse: 0.0496\n",
            "Epoch 38/100\n",
            "1620/1620 [==============================] - 124s 76ms/step - loss: 0.0811 - mse: 0.0595 - val_loss: 0.0806 - val_mse: 0.0559\n",
            "Epoch 39/100\n",
            "1620/1620 [==============================] - 128s 79ms/step - loss: 0.0805 - mse: 0.0604 - val_loss: 0.0775 - val_mse: 0.0577\n",
            "Epoch 40/100\n",
            "1620/1620 [==============================] - 128s 79ms/step - loss: 0.0800 - mse: 0.0585 - val_loss: 0.0816 - val_mse: 0.0535\n",
            "Epoch 41/100\n",
            "1620/1620 [==============================] - 128s 79ms/step - loss: 0.0793 - mse: 0.0589 - val_loss: 0.0806 - val_mse: 0.0607\n",
            "Epoch 42/100\n",
            "1620/1620 [==============================] - 128s 79ms/step - loss: 0.0791 - mse: 0.0577 - val_loss: 0.0699 - val_mse: 0.0523\n",
            "Epoch 43/100\n",
            "1620/1620 [==============================] - 128s 79ms/step - loss: 0.0777 - mse: 0.0566 - val_loss: 0.0837 - val_mse: 0.0628\n",
            "Epoch 44/100\n",
            "1620/1620 [==============================] - 156s 96ms/step - loss: 0.0771 - mse: 0.0562 - val_loss: 0.0831 - val_mse: 0.0575\n",
            "Epoch 45/100\n",
            "1620/1620 [==============================] - 133s 82ms/step - loss: 0.0766 - mse: 0.0558 - val_loss: 0.0787 - val_mse: 0.0605\n",
            "Epoch 46/100\n",
            "1620/1620 [==============================] - 130s 80ms/step - loss: 0.0767 - mse: 0.0569 - val_loss: 0.0771 - val_mse: 0.0583\n",
            "Epoch 47/100\n",
            "1620/1620 [==============================] - 130s 80ms/step - loss: 0.0772 - mse: 0.0572 - val_loss: 0.0752 - val_mse: 0.0544\n",
            "Epoch 48/100\n",
            "1620/1620 [==============================] - 132s 81ms/step - loss: 0.0758 - mse: 0.0546 - val_loss: 0.0699 - val_mse: 0.0528\n",
            "Epoch 49/100\n",
            "1620/1620 [==============================] - 143s 88ms/step - loss: 0.0765 - mse: 0.0569 - val_loss: 0.0850 - val_mse: 0.0591\n",
            "Epoch 50/100\n",
            "1620/1620 [==============================] - 145s 90ms/step - loss: 0.0755 - mse: 0.0550 - val_loss: 0.0771 - val_mse: 0.0575\n",
            "Epoch 51/100\n",
            "1620/1620 [==============================] - 147s 91ms/step - loss: 0.0754 - mse: 0.0553 - val_loss: 0.0768 - val_mse: 0.0595\n",
            "Epoch 52/100\n",
            "1620/1620 [==============================] - 151s 93ms/step - loss: 0.0737 - mse: 0.0547 - val_loss: 0.0756 - val_mse: 0.0560\n",
            "Epoch 53/100\n",
            "1620/1620 [==============================] - 146s 90ms/step - loss: 0.0743 - mse: 0.0545 - val_loss: 0.0837 - val_mse: 0.0605\n",
            "Epoch 54/100\n",
            "1620/1620 [==============================] - 146s 90ms/step - loss: 0.0742 - mse: 0.0531 - val_loss: 0.0685 - val_mse: 0.0483\n",
            "Epoch 55/100\n",
            "1620/1620 [==============================] - 147s 91ms/step - loss: 0.0760 - mse: 0.0561 - val_loss: 0.0669 - val_mse: 0.0444\n",
            "Epoch 56/100\n",
            "1620/1620 [==============================] - 149s 92ms/step - loss: 0.0751 - mse: 0.0555 - val_loss: 0.0692 - val_mse: 0.0491\n",
            "Epoch 57/100\n",
            "1620/1620 [==============================] - 150s 92ms/step - loss: 0.0742 - mse: 0.0560 - val_loss: 0.0876 - val_mse: 0.0803\n",
            "Epoch 58/100\n",
            "1620/1620 [==============================] - 144s 89ms/step - loss: 0.0721 - mse: 0.0527 - val_loss: 0.0741 - val_mse: 0.0518\n",
            "Epoch 59/100\n",
            "1620/1620 [==============================] - 145s 90ms/step - loss: 0.0736 - mse: 0.0553 - val_loss: 0.0744 - val_mse: 0.0559\n",
            "Epoch 60/100\n",
            "1620/1620 [==============================] - 138s 85ms/step - loss: 0.0722 - mse: 0.0541 - val_loss: 0.0668 - val_mse: 0.0488\n",
            "Epoch 61/100\n",
            "1620/1620 [==============================] - 133s 82ms/step - loss: 0.0713 - mse: 0.0522 - val_loss: 0.0796 - val_mse: 0.0687\n",
            "Epoch 62/100\n",
            "1620/1620 [==============================] - 146s 90ms/step - loss: 0.0727 - mse: 0.0543 - val_loss: 0.0677 - val_mse: 0.0487\n",
            "Epoch 63/100\n",
            "1620/1620 [==============================] - 143s 88ms/step - loss: 0.0731 - mse: 0.0525 - val_loss: 0.0887 - val_mse: 0.0665\n",
            "Epoch 64/100\n",
            "1620/1620 [==============================] - 144s 89ms/step - loss: 0.0718 - mse: 0.0533 - val_loss: 0.0800 - val_mse: 0.0581\n",
            "Epoch 65/100\n",
            "1620/1620 [==============================] - 142s 88ms/step - loss: 0.0734 - mse: 0.0544 - val_loss: 0.0656 - val_mse: 0.0464\n",
            "Epoch 66/100\n",
            "1620/1620 [==============================] - 143s 89ms/step - loss: 0.0735 - mse: 0.0544 - val_loss: 0.0798 - val_mse: 0.0563\n",
            "Epoch 67/100\n",
            "1620/1620 [==============================] - 140s 86ms/step - loss: 0.0722 - mse: 0.0524 - val_loss: 0.0731 - val_mse: 0.0514\n",
            "Epoch 68/100\n",
            "1620/1620 [==============================] - 142s 88ms/step - loss: 0.0733 - mse: 0.0548 - val_loss: 0.0875 - val_mse: 0.0708\n",
            "Epoch 69/100\n",
            "1620/1620 [==============================] - 138s 85ms/step - loss: 0.0738 - mse: 0.0526 - val_loss: 0.0715 - val_mse: 0.0517\n",
            "Epoch 70/100\n",
            "1620/1620 [==============================] - 136s 84ms/step - loss: 0.0727 - mse: 0.0542 - val_loss: 0.0732 - val_mse: 0.0516\n",
            "Epoch 71/100\n",
            "1620/1620 [==============================] - 128s 79ms/step - loss: 0.0724 - mse: 0.0527 - val_loss: 0.0842 - val_mse: 0.0681\n",
            "Epoch 72/100\n",
            "1620/1620 [==============================] - 127s 78ms/step - loss: 0.0726 - mse: 0.0536 - val_loss: 0.0704 - val_mse: 0.0494\n",
            "Epoch 73/100\n",
            "1620/1620 [==============================] - 140s 86ms/step - loss: 0.0727 - mse: 0.0537 - val_loss: 0.0714 - val_mse: 0.0448\n",
            "Epoch 74/100\n",
            "1620/1620 [==============================] - 135s 84ms/step - loss: 0.0718 - mse: 0.0526 - val_loss: 0.0670 - val_mse: 0.0450\n",
            "Epoch 75/100\n",
            "1620/1620 [==============================] - 126s 78ms/step - loss: 0.0711 - mse: 0.0532 - val_loss: 0.0666 - val_mse: 0.0472\n",
            "Epoch 76/100\n",
            "1620/1620 [==============================] - 126s 78ms/step - loss: 0.0716 - mse: 0.0524 - val_loss: 0.0800 - val_mse: 0.0607\n",
            "Epoch 77/100\n",
            "1620/1620 [==============================] - 126s 78ms/step - loss: 0.0721 - mse: 0.0530 - val_loss: 0.0810 - val_mse: 0.0604\n",
            "Epoch 78/100\n",
            "1620/1620 [==============================] - 127s 78ms/step - loss: 0.0717 - mse: 0.0529 - val_loss: 0.0716 - val_mse: 0.0518\n",
            "Epoch 79/100\n",
            "1620/1620 [==============================] - 129s 79ms/step - loss: 0.0724 - mse: 0.0526 - val_loss: 0.0672 - val_mse: 0.0429\n",
            "Epoch 80/100\n",
            "1620/1620 [==============================] - 129s 80ms/step - loss: 0.0723 - mse: 0.0516 - val_loss: 0.0659 - val_mse: 0.0481\n",
            "Epoch 81/100\n",
            "1620/1620 [==============================] - 133s 82ms/step - loss: 0.0743 - mse: 0.0542 - val_loss: 0.0646 - val_mse: 0.0430\n",
            "Epoch 82/100\n",
            "1620/1620 [==============================] - 129s 80ms/step - loss: 0.0729 - mse: 0.0508 - val_loss: 0.0791 - val_mse: 0.0532\n",
            "Epoch 83/100\n",
            "1620/1620 [==============================] - 136s 84ms/step - loss: 0.0739 - mse: 0.0515 - val_loss: 0.0728 - val_mse: 0.0540\n",
            "Epoch 84/100\n",
            "1620/1620 [==============================] - 157s 97ms/step - loss: 0.0728 - mse: 0.0521 - val_loss: 0.0733 - val_mse: 0.0535\n",
            "Epoch 85/100\n",
            "1620/1620 [==============================] - 147s 91ms/step - loss: 0.0730 - mse: 0.0504 - val_loss: 0.0734 - val_mse: 0.0486\n",
            "Epoch 86/100\n",
            "1620/1620 [==============================] - 158s 97ms/step - loss: 0.0727 - mse: 0.0499 - val_loss: 0.0731 - val_mse: 0.0472\n",
            "Epoch 87/100\n",
            "1620/1620 [==============================] - 147s 91ms/step - loss: 0.0731 - mse: 0.0507 - val_loss: 0.0790 - val_mse: 0.0551\n",
            "Epoch 88/100\n",
            "1620/1620 [==============================] - 150s 93ms/step - loss: 0.0726 - mse: 0.0520 - val_loss: 0.0722 - val_mse: 0.0548\n",
            "Epoch 89/100\n",
            "1620/1620 [==============================] - 149s 92ms/step - loss: 0.0706 - mse: 0.0495 - val_loss: 0.0801 - val_mse: 0.0542\n",
            "Epoch 90/100\n",
            "1620/1620 [==============================] - 165s 102ms/step - loss: 0.0717 - mse: 0.0498 - val_loss: 0.0687 - val_mse: 0.0486\n",
            "Epoch 91/100\n",
            "1620/1620 [==============================] - 139s 86ms/step - loss: 0.0712 - mse: 0.0508 - val_loss: 0.0644 - val_mse: 0.0421\n",
            "Epoch 92/100\n",
            "1620/1620 [==============================] - 151s 93ms/step - loss: 0.0709 - mse: 0.0500 - val_loss: 0.0804 - val_mse: 0.0589\n",
            "Epoch 93/100\n",
            "1620/1620 [==============================] - 152s 94ms/step - loss: 0.0704 - mse: 0.0501 - val_loss: 0.0736 - val_mse: 0.0507\n",
            "Epoch 94/100\n",
            "1620/1620 [==============================] - 154s 95ms/step - loss: 0.0707 - mse: 0.0514 - val_loss: 0.0726 - val_mse: 0.0518\n",
            "Epoch 95/100\n",
            "1620/1620 [==============================] - 154s 95ms/step - loss: 0.0706 - mse: 0.0495 - val_loss: 0.0703 - val_mse: 0.0487\n",
            "Epoch 96/100\n",
            "1620/1620 [==============================] - 183s 113ms/step - loss: 0.0700 - mse: 0.0492 - val_loss: 0.0768 - val_mse: 0.0497\n",
            "Epoch 97/100\n",
            "1620/1620 [==============================] - 159s 98ms/step - loss: 0.0702 - mse: 0.0490 - val_loss: 0.0767 - val_mse: 0.0583\n",
            "Epoch 98/100\n",
            "1620/1620 [==============================] - 154s 95ms/step - loss: 0.0706 - mse: 0.0503 - val_loss: 0.0798 - val_mse: 0.0630\n",
            "Epoch 99/100\n",
            "1620/1620 [==============================] - 146s 90ms/step - loss: 0.0696 - mse: 0.0489 - val_loss: 0.0662 - val_mse: 0.0447\n",
            "Epoch 100/100\n",
            "1620/1620 [==============================] - 153s 95ms/step - loss: 0.0701 - mse: 0.0498 - val_loss: 0.0715 - val_mse: 0.0537\n",
            "total time is 232 minutes\n"
          ]
        }
      ],
      "source": [
        "#training of myNN\n",
        "\n",
        "start =  time.perf_counter()\n",
        "result = myNN.fit_generator(training_dataset, epochs=100, validation_data = validation_dataset)\n",
        "end = time.perf_counter()\n",
        "total_time = end - start\n",
        "print(f'total time is {round(total_time/60)} minutes')"
      ]
    },
    {
      "cell_type": "code",
      "execution_count": null,
      "metadata": {
        "scrolled": false,
        "id": "OZHfu5K7e_3h"
      },
      "outputs": [],
      "source": [
        "#result.history"
      ]
    },
    {
      "cell_type": "code",
      "execution_count": null,
      "metadata": {
        "id": "aqMQq-HOe_3i",
        "outputId": "5c9130df-1a71-4d77-fa75-8cdc06a040c6"
      },
      "outputs": [
        {
          "data": {
            "image/png": "[encoded data removed]",
            "text/plain": [
              "<Figure size 1008x576 with 1 Axes>"
            ]
          },
          "metadata": {
            "needs_background": "light"
          },
          "output_type": "display_data"
        }
      ],
      "source": [
        "# plotting mae vs epoch\n",
        "result.history['mse']\n",
        "plt.figure(figsize=(14,8))\n",
        "plt.title('mean absolute error vs epochs ,  time <= 3.9 time units' ,size=20)\n",
        "plt.plot(result.history['mse'],'r');\n",
        "plt.xlabel('epoch',size=15)\n",
        "plt.ylabel('mean absolute error',size=15);\n"
      ]
    },
    {
      "cell_type": "code",
      "execution_count": null,
      "metadata": {
        "id": "-tI284Cte_3k",
        "outputId": "464936c1-0f5e-4278-9bf3-2c9cc31f41f0"
      },
      "outputs": [
        {
          "name": "stdout",
          "output_type": "stream",
          "text": [
            "             myNN                       pretrained\n",
            "\n",
            " [[ 5.5345751e-02  2.4519477e-02  1.0019426e+00  2.7676672e-04]\n",
            " [ 8.8206446e-01  5.9832204e-03  1.0017688e+00  3.4224242e-04]\n",
            " [ 9.9090767e-01 -1.9214975e-04  1.0015950e+00  4.0771812e-04]\n",
            " ...\n",
            " [ 9.2795724e-01 -1.0844976e+00  9.0909457e-01 -1.1513842e+00]\n",
            " [ 9.2887759e-01 -1.0845187e+00  9.0952486e-01 -1.1514581e+00]\n",
            " [ 9.2977995e-01 -1.0844997e+00  9.0995795e-01 -1.1515501e+00]]\n"
          ]
        },
        {
          "data": {
            "image/png": "[encoded data removed]",
            "text/plain": [
              "<Figure size 432x288 with 1 Axes>"
            ]
          },
          "metadata": {
            "needs_background": "light"
          },
          "output_type": "display_data"
        }
      ],
      "source": [
        "# Lets compare my NN with the pre trained model from the paper\n",
        "\n",
        "# i pick a random initial condition\n",
        "idxrand = np.random.randint(9000)\n",
        "\n",
        "# prediction for my NN nad plotting\n",
        "predictions = myNN.predict( special_input(data, idxrand))\n",
        "r1 , r2, r3 = get_trajectories(predictions)\n",
        "# i discarded the first points of x1,y1,x2,y2, the x1,y1(0) was not (1,0) the x1,y1(1) was fine about (1,0)\n",
        "plot_trajectories(r1[1:,:] , r2[1:,:] , r3[1:,:], ax=None , leg = 'my NN')\n",
        "k1 = r1\n",
        "# prediction for pre trained model and plotting\n",
        "predictions = pre_trained_model.predict( special_input(data, idxrand))\n",
        "r1 , r2 , r3 = get_trajectories(predictions)\n",
        "plot_trajectories(r1, r2, r3, ax=None, style='--',leg = 'pre trained')\n",
        "print(f'             myNN                       pretrained\\n\\n {np.hstack((k1,r1))}')"
      ]
    },
    {
      "cell_type": "code",
      "execution_count": null,
      "metadata": {
        "id": "rY4Geq6Oe_3m",
        "outputId": "8a7d5258-595b-4adb-c0f6-11300660995f"
      },
      "outputs": [
        {
          "name": "stdout",
          "output_type": "stream",
          "text": [
            "             predicted                       original\n",
            "\n",
            " [[1.00302553e+00 4.27059829e-04 1.00000000e+00 0.00000000e+00]\n",
            " [1.00289130e+00 4.49992716e-04 9.99991446e-01 6.46311228e-07]\n",
            " [1.00275731e+00 4.72895801e-04 9.99965782e-01 2.58521880e-06]\n",
            " ...\n",
            " [6.59429431e-01 2.75090307e-01 6.61986333e-01 2.79924042e-01]\n",
            " [6.57716334e-01 2.75127083e-01 6.60996570e-01 2.79949627e-01]\n",
            " [6.56039834e-01 2.75169045e-01 6.59970570e-01 2.79955592e-01]]\n"
          ]
        },
        {
          "data": {
            "image/png": "[encoded data removed]",
            "text/plain": [
              "<Figure size 432x288 with 1 Axes>"
            ]
          },
          "metadata": {
            "needs_background": "light"
          },
          "output_type": "display_data"
        }
      ],
      "source": [
        "predictions = pre_trained_model.predict( special_input(data, idxrand))\n",
        "r1 , r2 , r3 = get_trajectories(predictions)\n",
        "plot_trajectories(r1, r2, r3, ax=None, style ='--',leg = 'pre trained')\n",
        "k1 = r1\n",
        "r1 , r2 , r3 = get_trajectories(get_data(idxrand)[1])\n",
        "plot_trajectories(r1, r2, r3, ax=None, style ='-', leg = 'original')\n",
        "print(f'             predicted                       original\\n\\n {np.hstack((k1,r1))}')\n",
        "\n"
      ]
    },
    {
      "cell_type": "code",
      "execution_count": null,
      "metadata": {
        "id": "SDAB31vge_3n"
      },
      "outputs": [],
      "source": [
        "#from datetime import datetime\n",
        "#now = datetime.now()\n",
        "#current_datetime = now.strftime(\"%D,%H-%M-%S\")\n",
        "#name = 'myNN_mk2('+current_datetime+').h5'\n",
        "\n",
        "# saving model\n",
        "tf.keras.models.save_model(myNN, 'myNN_10_128.h5')"
      ]
    },
    {
      "cell_type": "code",
      "execution_count": null,
      "metadata": {
        "id": "21oJGEK1e_3o"
      },
      "outputs": [],
      "source": []
    }
  ],
  "metadata": {
    "kernelspec": {
      "display_name": "Python 3",
      "language": "python",
      "name": "python3"
    },
    "language_info": {
      "codemirror_mode": {
        "name": "ipython",
        "version": 3
      },
      "file_extension": ".py",
      "mimetype": "text/x-python",
      "name": "python",
      "nbconvert_exporter": "python",
      "pygments_lexer": "ipython3",
      "version": "3.7.10"
    },
    "colab": {
      "provenance": [],
      "include_colab_link": true
    }
  },
  "nbformat": 4,
  "nbformat_minor": 0
}